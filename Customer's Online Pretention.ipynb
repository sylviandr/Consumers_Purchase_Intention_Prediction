{
 "cells": [
  {
   "cell_type": "markdown",
   "metadata": {
    "ExecuteTime": {
     "end_time": "2020-07-25T07:54:42.657904Z",
     "start_time": "2020-07-25T07:54:38.582137Z"
    }
   },
   "source": [
    "#### Table of Contents:\n",
    "#### Introduction\n",
    "#### Problem Definition\n",
    "#### About Project\n",
    "#### Kernel Goals\n",
    "#### Gathering Data\n",
    "#### Prepare Data for Consumption\n",
    "#### Import Libraries\n",
    "#### Meet and Greet Data\n",
    "#### Data Cleaning\n",
    "#### Data Visualization\n",
    "#### Duration of pages vs Revenue\n",
    "#### Month Vs Page value Vs Revenue\n",
    "#### Bounce & Exit Rates Vs Revenue\n",
    "#### Visitor type & Exit Rates Vs Revenue\n",
    "#### Correlation map\n",
    "#### Strategies to improve conversion rate\n",
    "#### Feature Engineering and Selection\n",
    "#### Handling Outliers\n",
    "#### Special Day- Feature Clubbing !\n",
    "#### Converting Dtypes\n",
    "#### Feature Scaling\n",
    "#### Label Encoding\n",
    "#### Feature Selection\n",
    "#### Train and Test Split (80:20)\n",
    "#### Modelling our Data\n",
    "#### Selecting the right model- Cross Validation\n",
    "#### Selecting the right model-Pipeline\n",
    "#### Random Forest with Hyperparameter Tuning\n",
    "#### SVC with Hyperparameter Tuning\n",
    "#### Conclusion"
   ]
  },
  {
   "cell_type": "code",
   "execution_count": 1,
   "metadata": {
    "ExecuteTime": {
     "end_time": "2020-08-06T08:11:38.382847Z",
     "start_time": "2020-08-06T08:11:35.784279Z"
    }
   },
   "outputs": [
    {
     "name": "stdout",
     "output_type": "stream",
     "text": [
      "The history saving thread hit an unexpected error (OperationalError('attempt to write a readonly database')).History will not be written to the database.\n"
     ]
    }
   ],
   "source": [
    "## Data Analysis Phase\n",
    "## Main aim is to understand more about the data\n",
    "import pandas as pd\n",
    "import numpy as np\n",
    "\n",
    "import sklearn \n",
    "from sklearn.svm import SVC\n",
    "from sklearn.preprocessing import LabelEncoder\n",
    "from sklearn.preprocessing import StandardScaler\n",
    "from sklearn.ensemble import ExtraTreesClassifier\n",
    "from sklearn.pipeline import make_pipeline\n",
    "from sklearn.model_selection import GridSearchCV\n",
    "from sklearn.linear_model import LogisticRegression\n",
    "from sklearn.tree import DecisionTreeClassifier\n",
    "from sklearn.ensemble import RandomForestClassifier\n",
    "from sklearn.naive_bayes import BernoulliNB \n",
    "from sklearn.neighbors import KNeighborsClassifier\n",
    "from sklearn.svm import SVC\n",
    "from sklearn.pipeline import Pipeline\n",
    "from sklearn.model_selection import train_test_split\n",
    "from datetime import timedelta\n",
    "\n",
    "#Metrics Libraries\n",
    "from sklearn import metrics\n",
    "from sklearn.metrics import classification_report\n",
    "from sklearn.model_selection import cross_val_score\n",
    "\n",
    "#Configure Visualization Defaults\n",
    "#%matplotlib inline = show plots in Jupyter Notebook browser\n",
    "import matplotlib.pyplot as plt\n",
    "import seaborn as sns\n",
    "import matplotlib as mpl\n",
    "import matplotlib.pylab as pylab\n",
    "%matplotlib inline\n",
    "mpl.style.use('ggplot')\n",
    "sns.set_style('white')\n",
    "pylab.rcParams['figure.figsize'] = 12,8\n",
    "\n",
    "#ignore warnings\n",
    "import warnings\n",
    "warnings.filterwarnings('ignore')"
   ]
  },
  {
   "cell_type": "markdown",
   "metadata": {},
   "source": [
    "Column Descriptions:\n",
    "\n",
    "- Administrative: This is the number of pages of this type (administrative) that the user visited.\n",
    "\n",
    "- Administrative_Duration: This is the amount of time spent in this category of pages.\n",
    "\n",
    "- Informational: This is the number of pages of this type (informational) that the user visited.\n",
    "\n",
    "- Informational_Duration: This is the amount of time spent in this category of pages.\n",
    "\n",
    "- ProductRelated: This is the number of pages of this type (product related) that the user visited.\n",
    "\n",
    "- ProductRelated_Duration: This is the amount of time spent in this category of pages.\n",
    "\n",
    "- BounceRates: The percentage of visitors who enter the website through that page and exit without triggering any additional tasks.\n",
    "\n",
    "- ExitRates: The percentage of pageviews on the website that end at that specific page.\n",
    "\n",
    "- PageValues: The average value of the page averaged over the value of the target page and/or the completion of an eCommerce transaction.\n",
    "\n",
    "- More information about how this is calculated\n",
    "\n",
    "- SpecialDay: This value represents the closeness of the browsing date to special days or holidays (eg Mother's Day or Valentine's day) in which the transaction is more likely to be finalized. More information about how this value is calculated below.\n",
    "\n",
    "- Month: Contains the month the pageview occurred, in string form.\n",
    "\n",
    "- OperatingSystems: An integer value representing the operating system that the user was on when viewing the page.\n",
    "\n",
    "- Browser: An integer value representing the browser that the user was using to view the page.\n",
    "\n",
    "- Region: An integer value representing which region the user is located in.\n",
    "\n",
    "- TrafficType: An integer value representing what type of traffic the user is categorized into. Read more about traffic types here.\n",
    "\n",
    "- VisitorType: A string representing whether a visitor is New Visitor, Returning Visitor, or Other.\n",
    "\n",
    "- Weekend: A boolean representing whether the session is on a weekend.\n",
    "\n",
    "- Revenue: A boolean representing whether or not the user completed the purchase."
   ]
  },
  {
   "cell_type": "markdown",
   "metadata": {},
   "source": [
    "1.Problem Definition\n",
    "\n",
    "This data consists of various information related to customer behavior in online shopping websites. It looks like our ecommerce client firm ABC needs to improve on its online sales conversion rate as they are looking forward for a huge investment into their website portal.This dataset helps us to perform Marketing Analytics and understand the KPIs and Metrics related to it. We should also provide marketing strategies to improve their conversion rate by making the customer go through the marketing funnel.\n",
    "\n"
   ]
  },
  {
   "cell_type": "markdown",
   "metadata": {},
   "source": [
    "Dataset :\n",
    "\n",
    "The dataset consists of feature vectors belonging to 12,330 sessions. The dataset was formed so that each session would belong to a different user in a 1-year period to avoid any tendency to a specific campaign, special day, user profile, or period.\n",
    "\n",
    "Attribute :\n",
    "\n",
    "Revenue => class whether it can make a revenue or not\n",
    "Administrative, Administrative Duration, Informational, Informational Duration, Product Related and Product Related Duration => represent the number of different types of pages visited by the visitor in that session and total time spent in each of these page categories.\n",
    "Bounce Rate => percentage of visitors who enter the site from that page and then leave (\"bounce\") without triggering any other requests to the analytics server during that session\n",
    "Exit Rate => the percentage that were the last in the session\n",
    "Page Value => feature represents the average value for a web page that a user visited before completing an e-commerce transaction\n",
    "Special Day => indicates the closeness of the site visiting time to a specific special day (e.g. Mother’s Day, Valentine's Day) in which the sessions are more likely to be finalized with transaction. For example, for Valentina’s day, this value takes a nonzero value between February 2 and February 12, zero,before and after this date unless it is close to another special day, and its maximum value of 1 on February 8\n",
    "Operating system,browser, region, traffic type => Different types of operating systems, browser, region and traffic type used to visit the website\n",
    "Visitor type => Whether the customer is a returning or new visitor\n",
    "Weekend => A Boolean value indicating whether the date of the visit is weekend\n",
    "Month => Month of the year"
   ]
  },
  {
   "cell_type": "code",
   "execution_count": 2,
   "metadata": {
    "ExecuteTime": {
     "end_time": "2020-08-06T09:24:07.963238Z",
     "start_time": "2020-08-06T09:24:07.902259Z"
    }
   },
   "outputs": [
    {
     "data": {
      "text/html": [
       "<div>\n",
       "<style scoped>\n",
       "    .dataframe tbody tr th:only-of-type {\n",
       "        vertical-align: middle;\n",
       "    }\n",
       "\n",
       "    .dataframe tbody tr th {\n",
       "        vertical-align: top;\n",
       "    }\n",
       "\n",
       "    .dataframe thead th {\n",
       "        text-align: right;\n",
       "    }\n",
       "</style>\n",
       "<table border=\"1\" class=\"dataframe\">\n",
       "  <thead>\n",
       "    <tr style=\"text-align: right;\">\n",
       "      <th></th>\n",
       "      <th>Administrative</th>\n",
       "      <th>Administrative_Duration</th>\n",
       "      <th>Informational</th>\n",
       "      <th>Informational_Duration</th>\n",
       "      <th>ProductRelated</th>\n",
       "      <th>ProductRelated_Duration</th>\n",
       "      <th>BounceRates</th>\n",
       "      <th>ExitRates</th>\n",
       "      <th>PageValues</th>\n",
       "      <th>SpecialDay</th>\n",
       "      <th>Month</th>\n",
       "      <th>OperatingSystems</th>\n",
       "      <th>Browser</th>\n",
       "      <th>Region</th>\n",
       "      <th>TrafficType</th>\n",
       "      <th>VisitorType</th>\n",
       "      <th>Weekend</th>\n",
       "      <th>Revenue</th>\n",
       "    </tr>\n",
       "  </thead>\n",
       "  <tbody>\n",
       "    <tr>\n",
       "      <th>0</th>\n",
       "      <td>0</td>\n",
       "      <td>0.0</td>\n",
       "      <td>0</td>\n",
       "      <td>0.0</td>\n",
       "      <td>1</td>\n",
       "      <td>0.000000</td>\n",
       "      <td>0.20</td>\n",
       "      <td>0.20</td>\n",
       "      <td>0.0</td>\n",
       "      <td>0.0</td>\n",
       "      <td>Feb</td>\n",
       "      <td>1</td>\n",
       "      <td>1</td>\n",
       "      <td>1</td>\n",
       "      <td>1</td>\n",
       "      <td>Returning_Visitor</td>\n",
       "      <td>False</td>\n",
       "      <td>False</td>\n",
       "    </tr>\n",
       "    <tr>\n",
       "      <th>1</th>\n",
       "      <td>0</td>\n",
       "      <td>0.0</td>\n",
       "      <td>0</td>\n",
       "      <td>0.0</td>\n",
       "      <td>2</td>\n",
       "      <td>64.000000</td>\n",
       "      <td>0.00</td>\n",
       "      <td>0.10</td>\n",
       "      <td>0.0</td>\n",
       "      <td>0.0</td>\n",
       "      <td>Feb</td>\n",
       "      <td>2</td>\n",
       "      <td>2</td>\n",
       "      <td>1</td>\n",
       "      <td>2</td>\n",
       "      <td>Returning_Visitor</td>\n",
       "      <td>False</td>\n",
       "      <td>False</td>\n",
       "    </tr>\n",
       "    <tr>\n",
       "      <th>2</th>\n",
       "      <td>0</td>\n",
       "      <td>0.0</td>\n",
       "      <td>0</td>\n",
       "      <td>0.0</td>\n",
       "      <td>1</td>\n",
       "      <td>0.000000</td>\n",
       "      <td>0.20</td>\n",
       "      <td>0.20</td>\n",
       "      <td>0.0</td>\n",
       "      <td>0.0</td>\n",
       "      <td>Feb</td>\n",
       "      <td>4</td>\n",
       "      <td>1</td>\n",
       "      <td>9</td>\n",
       "      <td>3</td>\n",
       "      <td>Returning_Visitor</td>\n",
       "      <td>False</td>\n",
       "      <td>False</td>\n",
       "    </tr>\n",
       "    <tr>\n",
       "      <th>3</th>\n",
       "      <td>0</td>\n",
       "      <td>0.0</td>\n",
       "      <td>0</td>\n",
       "      <td>0.0</td>\n",
       "      <td>2</td>\n",
       "      <td>2.666667</td>\n",
       "      <td>0.05</td>\n",
       "      <td>0.14</td>\n",
       "      <td>0.0</td>\n",
       "      <td>0.0</td>\n",
       "      <td>Feb</td>\n",
       "      <td>3</td>\n",
       "      <td>2</td>\n",
       "      <td>2</td>\n",
       "      <td>4</td>\n",
       "      <td>Returning_Visitor</td>\n",
       "      <td>False</td>\n",
       "      <td>False</td>\n",
       "    </tr>\n",
       "    <tr>\n",
       "      <th>4</th>\n",
       "      <td>0</td>\n",
       "      <td>0.0</td>\n",
       "      <td>0</td>\n",
       "      <td>0.0</td>\n",
       "      <td>10</td>\n",
       "      <td>627.500000</td>\n",
       "      <td>0.02</td>\n",
       "      <td>0.05</td>\n",
       "      <td>0.0</td>\n",
       "      <td>0.0</td>\n",
       "      <td>Feb</td>\n",
       "      <td>3</td>\n",
       "      <td>3</td>\n",
       "      <td>1</td>\n",
       "      <td>4</td>\n",
       "      <td>Returning_Visitor</td>\n",
       "      <td>True</td>\n",
       "      <td>False</td>\n",
       "    </tr>\n",
       "  </tbody>\n",
       "</table>\n",
       "</div>"
      ],
      "text/plain": [
       "   Administrative  Administrative_Duration  Informational  \\\n",
       "0               0                      0.0              0   \n",
       "1               0                      0.0              0   \n",
       "2               0                      0.0              0   \n",
       "3               0                      0.0              0   \n",
       "4               0                      0.0              0   \n",
       "\n",
       "   Informational_Duration  ProductRelated  ProductRelated_Duration  \\\n",
       "0                     0.0               1                 0.000000   \n",
       "1                     0.0               2                64.000000   \n",
       "2                     0.0               1                 0.000000   \n",
       "3                     0.0               2                 2.666667   \n",
       "4                     0.0              10               627.500000   \n",
       "\n",
       "   BounceRates  ExitRates  PageValues  SpecialDay Month  OperatingSystems  \\\n",
       "0         0.20       0.20         0.0         0.0   Feb                 1   \n",
       "1         0.00       0.10         0.0         0.0   Feb                 2   \n",
       "2         0.20       0.20         0.0         0.0   Feb                 4   \n",
       "3         0.05       0.14         0.0         0.0   Feb                 3   \n",
       "4         0.02       0.05         0.0         0.0   Feb                 3   \n",
       "\n",
       "   Browser  Region  TrafficType        VisitorType  Weekend  Revenue  \n",
       "0        1       1            1  Returning_Visitor    False    False  \n",
       "1        2       1            2  Returning_Visitor    False    False  \n",
       "2        1       9            3  Returning_Visitor    False    False  \n",
       "3        2       2            4  Returning_Visitor    False    False  \n",
       "4        3       1            4  Returning_Visitor     True    False  "
      ]
     },
     "execution_count": 2,
     "metadata": {},
     "output_type": "execute_result"
    }
   ],
   "source": [
    "df = pd.read_csv('online_shoppers_intention.csv')\n",
    "df.head()"
   ]
  },
  {
   "cell_type": "code",
   "execution_count": 3,
   "metadata": {
    "ExecuteTime": {
     "end_time": "2020-08-06T08:11:49.741546Z",
     "start_time": "2020-08-06T08:11:49.729915Z"
    }
   },
   "outputs": [
    {
     "data": {
      "text/plain": [
       "(12330, 18)"
      ]
     },
     "execution_count": 3,
     "metadata": {},
     "output_type": "execute_result"
    }
   ],
   "source": [
    "df.shape"
   ]
  },
  {
   "cell_type": "code",
   "execution_count": 4,
   "metadata": {
    "ExecuteTime": {
     "end_time": "2020-08-05T11:37:51.935451Z",
     "start_time": "2020-08-05T11:37:51.849729Z"
    }
   },
   "outputs": [
    {
     "data": {
      "text/plain": [
       "0     5768\n",
       "1     1354\n",
       "2     1114\n",
       "3      915\n",
       "4      765\n",
       "5      575\n",
       "6      432\n",
       "7      338\n",
       "8      287\n",
       "9      225\n",
       "10     153\n",
       "11     105\n",
       "12      86\n",
       "13      56\n",
       "14      44\n",
       "15      38\n",
       "16      24\n",
       "17      16\n",
       "18      12\n",
       "19       6\n",
       "24       4\n",
       "22       4\n",
       "23       3\n",
       "20       2\n",
       "21       2\n",
       "26       1\n",
       "27       1\n",
       "Name: Administrative, dtype: int64"
      ]
     },
     "execution_count": 4,
     "metadata": {},
     "output_type": "execute_result"
    }
   ],
   "source": [
    "df['Administrative'].value_counts()"
   ]
  },
  {
   "cell_type": "code",
   "execution_count": 5,
   "metadata": {
    "ExecuteTime": {
     "end_time": "2020-08-05T11:37:55.679932Z",
     "start_time": "2020-08-05T11:37:55.665924Z"
    }
   },
   "outputs": [],
   "source": [
    "a = df['Administrative'].apply(lambda x : x * 1)"
   ]
  },
  {
   "cell_type": "code",
   "execution_count": 6,
   "metadata": {
    "ExecuteTime": {
     "end_time": "2020-08-05T11:37:58.427675Z",
     "start_time": "2020-08-05T11:37:58.404343Z"
    }
   },
   "outputs": [
    {
     "name": "stdout",
     "output_type": "stream",
     "text": [
      "<class 'pandas.core.frame.DataFrame'>\n",
      "RangeIndex: 12330 entries, 0 to 12329\n",
      "Data columns (total 18 columns):\n",
      " #   Column                   Non-Null Count  Dtype  \n",
      "---  ------                   --------------  -----  \n",
      " 0   Administrative           12330 non-null  int64  \n",
      " 1   Administrative_Duration  12330 non-null  float64\n",
      " 2   Informational            12330 non-null  int64  \n",
      " 3   Informational_Duration   12330 non-null  float64\n",
      " 4   ProductRelated           12330 non-null  int64  \n",
      " 5   ProductRelated_Duration  12330 non-null  float64\n",
      " 6   BounceRates              12330 non-null  float64\n",
      " 7   ExitRates                12330 non-null  float64\n",
      " 8   PageValues               12330 non-null  float64\n",
      " 9   SpecialDay               12330 non-null  float64\n",
      " 10  Month                    12330 non-null  object \n",
      " 11  OperatingSystems         12330 non-null  int64  \n",
      " 12  Browser                  12330 non-null  int64  \n",
      " 13  Region                   12330 non-null  int64  \n",
      " 14  TrafficType              12330 non-null  int64  \n",
      " 15  VisitorType              12330 non-null  object \n",
      " 16  Weekend                  12330 non-null  bool   \n",
      " 17  Revenue                  12330 non-null  bool   \n",
      "dtypes: bool(2), float64(7), int64(7), object(2)\n",
      "memory usage: 1.5+ MB\n"
     ]
    }
   ],
   "source": [
    "df.info()"
   ]
  },
  {
   "cell_type": "code",
   "execution_count": 7,
   "metadata": {
    "ExecuteTime": {
     "end_time": "2020-08-05T11:38:01.653951Z",
     "start_time": "2020-08-05T11:38:01.635936Z"
    }
   },
   "outputs": [
    {
     "data": {
      "text/plain": [
       "Administrative             0\n",
       "Administrative_Duration    0\n",
       "Informational              0\n",
       "Informational_Duration     0\n",
       "ProductRelated             0\n",
       "ProductRelated_Duration    0\n",
       "BounceRates                0\n",
       "ExitRates                  0\n",
       "PageValues                 0\n",
       "SpecialDay                 0\n",
       "Month                      0\n",
       "OperatingSystems           0\n",
       "Browser                    0\n",
       "Region                     0\n",
       "TrafficType                0\n",
       "VisitorType                0\n",
       "Weekend                    0\n",
       "Revenue                    0\n",
       "dtype: int64"
      ]
     },
     "execution_count": 7,
     "metadata": {},
     "output_type": "execute_result"
    }
   ],
   "source": [
    "df.isnull().sum()"
   ]
  },
  {
   "cell_type": "code",
   "execution_count": 8,
   "metadata": {
    "ExecuteTime": {
     "end_time": "2020-08-05T11:38:04.404751Z",
     "start_time": "2020-08-05T11:38:04.391030Z"
    }
   },
   "outputs": [
    {
     "data": {
      "text/plain": [
       "0"
      ]
     },
     "execution_count": 8,
     "metadata": {},
     "output_type": "execute_result"
    }
   ],
   "source": [
    "df.isnull().sum().sum()"
   ]
  },
  {
   "cell_type": "code",
   "execution_count": 9,
   "metadata": {
    "ExecuteTime": {
     "end_time": "2020-08-05T11:38:07.594599Z",
     "start_time": "2020-08-05T11:38:07.498162Z"
    },
    "scrolled": true
   },
   "outputs": [
    {
     "data": {
      "text/html": [
       "<div>\n",
       "<style scoped>\n",
       "    .dataframe tbody tr th:only-of-type {\n",
       "        vertical-align: middle;\n",
       "    }\n",
       "\n",
       "    .dataframe tbody tr th {\n",
       "        vertical-align: top;\n",
       "    }\n",
       "\n",
       "    .dataframe thead th {\n",
       "        text-align: right;\n",
       "    }\n",
       "</style>\n",
       "<table border=\"1\" class=\"dataframe\">\n",
       "  <thead>\n",
       "    <tr style=\"text-align: right;\">\n",
       "      <th></th>\n",
       "      <th>Administrative</th>\n",
       "      <th>Administrative_Duration</th>\n",
       "      <th>Informational</th>\n",
       "      <th>Informational_Duration</th>\n",
       "      <th>ProductRelated</th>\n",
       "      <th>ProductRelated_Duration</th>\n",
       "      <th>BounceRates</th>\n",
       "      <th>ExitRates</th>\n",
       "      <th>PageValues</th>\n",
       "      <th>SpecialDay</th>\n",
       "      <th>OperatingSystems</th>\n",
       "      <th>Browser</th>\n",
       "      <th>Region</th>\n",
       "      <th>TrafficType</th>\n",
       "    </tr>\n",
       "  </thead>\n",
       "  <tbody>\n",
       "    <tr>\n",
       "      <th>count</th>\n",
       "      <td>12330.000000</td>\n",
       "      <td>12330.000000</td>\n",
       "      <td>12330.000000</td>\n",
       "      <td>12330.000000</td>\n",
       "      <td>12330.000000</td>\n",
       "      <td>12330.000000</td>\n",
       "      <td>12330.000000</td>\n",
       "      <td>12330.000000</td>\n",
       "      <td>12330.000000</td>\n",
       "      <td>12330.000000</td>\n",
       "      <td>12330.000000</td>\n",
       "      <td>12330.000000</td>\n",
       "      <td>12330.000000</td>\n",
       "      <td>12330.000000</td>\n",
       "    </tr>\n",
       "    <tr>\n",
       "      <th>mean</th>\n",
       "      <td>2.315166</td>\n",
       "      <td>80.818611</td>\n",
       "      <td>0.503569</td>\n",
       "      <td>34.472398</td>\n",
       "      <td>31.731468</td>\n",
       "      <td>1194.746220</td>\n",
       "      <td>0.022191</td>\n",
       "      <td>0.043073</td>\n",
       "      <td>5.889258</td>\n",
       "      <td>0.061427</td>\n",
       "      <td>2.124006</td>\n",
       "      <td>2.357097</td>\n",
       "      <td>3.147364</td>\n",
       "      <td>4.069586</td>\n",
       "    </tr>\n",
       "    <tr>\n",
       "      <th>std</th>\n",
       "      <td>3.321784</td>\n",
       "      <td>176.779107</td>\n",
       "      <td>1.270156</td>\n",
       "      <td>140.749294</td>\n",
       "      <td>44.475503</td>\n",
       "      <td>1913.669288</td>\n",
       "      <td>0.048488</td>\n",
       "      <td>0.048597</td>\n",
       "      <td>18.568437</td>\n",
       "      <td>0.198917</td>\n",
       "      <td>0.911325</td>\n",
       "      <td>1.717277</td>\n",
       "      <td>2.401591</td>\n",
       "      <td>4.025169</td>\n",
       "    </tr>\n",
       "    <tr>\n",
       "      <th>min</th>\n",
       "      <td>0.000000</td>\n",
       "      <td>0.000000</td>\n",
       "      <td>0.000000</td>\n",
       "      <td>0.000000</td>\n",
       "      <td>0.000000</td>\n",
       "      <td>0.000000</td>\n",
       "      <td>0.000000</td>\n",
       "      <td>0.000000</td>\n",
       "      <td>0.000000</td>\n",
       "      <td>0.000000</td>\n",
       "      <td>1.000000</td>\n",
       "      <td>1.000000</td>\n",
       "      <td>1.000000</td>\n",
       "      <td>1.000000</td>\n",
       "    </tr>\n",
       "    <tr>\n",
       "      <th>25%</th>\n",
       "      <td>0.000000</td>\n",
       "      <td>0.000000</td>\n",
       "      <td>0.000000</td>\n",
       "      <td>0.000000</td>\n",
       "      <td>7.000000</td>\n",
       "      <td>184.137500</td>\n",
       "      <td>0.000000</td>\n",
       "      <td>0.014286</td>\n",
       "      <td>0.000000</td>\n",
       "      <td>0.000000</td>\n",
       "      <td>2.000000</td>\n",
       "      <td>2.000000</td>\n",
       "      <td>1.000000</td>\n",
       "      <td>2.000000</td>\n",
       "    </tr>\n",
       "    <tr>\n",
       "      <th>50%</th>\n",
       "      <td>1.000000</td>\n",
       "      <td>7.500000</td>\n",
       "      <td>0.000000</td>\n",
       "      <td>0.000000</td>\n",
       "      <td>18.000000</td>\n",
       "      <td>598.936905</td>\n",
       "      <td>0.003112</td>\n",
       "      <td>0.025156</td>\n",
       "      <td>0.000000</td>\n",
       "      <td>0.000000</td>\n",
       "      <td>2.000000</td>\n",
       "      <td>2.000000</td>\n",
       "      <td>3.000000</td>\n",
       "      <td>2.000000</td>\n",
       "    </tr>\n",
       "    <tr>\n",
       "      <th>75%</th>\n",
       "      <td>4.000000</td>\n",
       "      <td>93.256250</td>\n",
       "      <td>0.000000</td>\n",
       "      <td>0.000000</td>\n",
       "      <td>38.000000</td>\n",
       "      <td>1464.157213</td>\n",
       "      <td>0.016813</td>\n",
       "      <td>0.050000</td>\n",
       "      <td>0.000000</td>\n",
       "      <td>0.000000</td>\n",
       "      <td>3.000000</td>\n",
       "      <td>2.000000</td>\n",
       "      <td>4.000000</td>\n",
       "      <td>4.000000</td>\n",
       "    </tr>\n",
       "    <tr>\n",
       "      <th>max</th>\n",
       "      <td>27.000000</td>\n",
       "      <td>3398.750000</td>\n",
       "      <td>24.000000</td>\n",
       "      <td>2549.375000</td>\n",
       "      <td>705.000000</td>\n",
       "      <td>63973.522230</td>\n",
       "      <td>0.200000</td>\n",
       "      <td>0.200000</td>\n",
       "      <td>361.763742</td>\n",
       "      <td>1.000000</td>\n",
       "      <td>8.000000</td>\n",
       "      <td>13.000000</td>\n",
       "      <td>9.000000</td>\n",
       "      <td>20.000000</td>\n",
       "    </tr>\n",
       "  </tbody>\n",
       "</table>\n",
       "</div>"
      ],
      "text/plain": [
       "       Administrative  Administrative_Duration  Informational  \\\n",
       "count    12330.000000             12330.000000   12330.000000   \n",
       "mean         2.315166                80.818611       0.503569   \n",
       "std          3.321784               176.779107       1.270156   \n",
       "min          0.000000                 0.000000       0.000000   \n",
       "25%          0.000000                 0.000000       0.000000   \n",
       "50%          1.000000                 7.500000       0.000000   \n",
       "75%          4.000000                93.256250       0.000000   \n",
       "max         27.000000              3398.750000      24.000000   \n",
       "\n",
       "       Informational_Duration  ProductRelated  ProductRelated_Duration  \\\n",
       "count            12330.000000    12330.000000             12330.000000   \n",
       "mean                34.472398       31.731468              1194.746220   \n",
       "std                140.749294       44.475503              1913.669288   \n",
       "min                  0.000000        0.000000                 0.000000   \n",
       "25%                  0.000000        7.000000               184.137500   \n",
       "50%                  0.000000       18.000000               598.936905   \n",
       "75%                  0.000000       38.000000              1464.157213   \n",
       "max               2549.375000      705.000000             63973.522230   \n",
       "\n",
       "        BounceRates     ExitRates    PageValues    SpecialDay  \\\n",
       "count  12330.000000  12330.000000  12330.000000  12330.000000   \n",
       "mean       0.022191      0.043073      5.889258      0.061427   \n",
       "std        0.048488      0.048597     18.568437      0.198917   \n",
       "min        0.000000      0.000000      0.000000      0.000000   \n",
       "25%        0.000000      0.014286      0.000000      0.000000   \n",
       "50%        0.003112      0.025156      0.000000      0.000000   \n",
       "75%        0.016813      0.050000      0.000000      0.000000   \n",
       "max        0.200000      0.200000    361.763742      1.000000   \n",
       "\n",
       "       OperatingSystems       Browser        Region   TrafficType  \n",
       "count      12330.000000  12330.000000  12330.000000  12330.000000  \n",
       "mean           2.124006      2.357097      3.147364      4.069586  \n",
       "std            0.911325      1.717277      2.401591      4.025169  \n",
       "min            1.000000      1.000000      1.000000      1.000000  \n",
       "25%            2.000000      2.000000      1.000000      2.000000  \n",
       "50%            2.000000      2.000000      3.000000      2.000000  \n",
       "75%            3.000000      2.000000      4.000000      4.000000  \n",
       "max            8.000000     13.000000      9.000000     20.000000  "
      ]
     },
     "execution_count": 9,
     "metadata": {},
     "output_type": "execute_result"
    }
   ],
   "source": [
    "df.describe()"
   ]
  },
  {
   "cell_type": "markdown",
   "metadata": {},
   "source": [
    "### Missing Value Checking"
   ]
  },
  {
   "cell_type": "code",
   "execution_count": 10,
   "metadata": {
    "ExecuteTime": {
     "end_time": "2020-08-06T08:12:00.001493Z",
     "start_time": "2020-08-06T08:11:59.939213Z"
    }
   },
   "outputs": [
    {
     "data": {
      "text/html": [
       "<div>\n",
       "<style scoped>\n",
       "    .dataframe tbody tr th:only-of-type {\n",
       "        vertical-align: middle;\n",
       "    }\n",
       "\n",
       "    .dataframe tbody tr th {\n",
       "        vertical-align: top;\n",
       "    }\n",
       "\n",
       "    .dataframe thead th {\n",
       "        text-align: right;\n",
       "    }\n",
       "</style>\n",
       "<table border=\"1\" class=\"dataframe\">\n",
       "  <thead>\n",
       "    <tr style=\"text-align: right;\">\n",
       "      <th></th>\n",
       "      <th>Administrative</th>\n",
       "      <th>Administrative_Duration</th>\n",
       "      <th>Informational</th>\n",
       "      <th>Informational_Duration</th>\n",
       "      <th>ProductRelated</th>\n",
       "      <th>ProductRelated_Duration</th>\n",
       "      <th>BounceRates</th>\n",
       "      <th>ExitRates</th>\n",
       "      <th>PageValues</th>\n",
       "      <th>SpecialDay</th>\n",
       "      <th>Month</th>\n",
       "      <th>OperatingSystems</th>\n",
       "      <th>Browser</th>\n",
       "      <th>Region</th>\n",
       "      <th>TrafficType</th>\n",
       "      <th>VisitorType</th>\n",
       "      <th>Weekend</th>\n",
       "      <th>Revenue</th>\n",
       "    </tr>\n",
       "  </thead>\n",
       "  <tbody>\n",
       "    <tr>\n",
       "      <th>No_missing_data</th>\n",
       "      <td>0.0</td>\n",
       "      <td>0.0</td>\n",
       "      <td>0.0</td>\n",
       "      <td>0.0</td>\n",
       "      <td>0.0</td>\n",
       "      <td>0.0</td>\n",
       "      <td>0.0</td>\n",
       "      <td>0.0</td>\n",
       "      <td>0.0</td>\n",
       "      <td>0.0</td>\n",
       "      <td>0.0</td>\n",
       "      <td>0.0</td>\n",
       "      <td>0.0</td>\n",
       "      <td>0.0</td>\n",
       "      <td>0.0</td>\n",
       "      <td>0.0</td>\n",
       "      <td>0.0</td>\n",
       "      <td>0.0</td>\n",
       "    </tr>\n",
       "    <tr>\n",
       "      <th>Percentege_missing_data</th>\n",
       "      <td>0.0</td>\n",
       "      <td>0.0</td>\n",
       "      <td>0.0</td>\n",
       "      <td>0.0</td>\n",
       "      <td>0.0</td>\n",
       "      <td>0.0</td>\n",
       "      <td>0.0</td>\n",
       "      <td>0.0</td>\n",
       "      <td>0.0</td>\n",
       "      <td>0.0</td>\n",
       "      <td>0.0</td>\n",
       "      <td>0.0</td>\n",
       "      <td>0.0</td>\n",
       "      <td>0.0</td>\n",
       "      <td>0.0</td>\n",
       "      <td>0.0</td>\n",
       "      <td>0.0</td>\n",
       "      <td>0.0</td>\n",
       "    </tr>\n",
       "  </tbody>\n",
       "</table>\n",
       "</div>"
      ],
      "text/plain": [
       "                         Administrative  Administrative_Duration  \\\n",
       "No_missing_data                     0.0                      0.0   \n",
       "Percentege_missing_data             0.0                      0.0   \n",
       "\n",
       "                         Informational  Informational_Duration  \\\n",
       "No_missing_data                    0.0                     0.0   \n",
       "Percentege_missing_data            0.0                     0.0   \n",
       "\n",
       "                         ProductRelated  ProductRelated_Duration  BounceRates  \\\n",
       "No_missing_data                     0.0                      0.0          0.0   \n",
       "Percentege_missing_data             0.0                      0.0          0.0   \n",
       "\n",
       "                         ExitRates  PageValues  SpecialDay  Month  \\\n",
       "No_missing_data                0.0         0.0         0.0    0.0   \n",
       "Percentege_missing_data        0.0         0.0         0.0    0.0   \n",
       "\n",
       "                         OperatingSystems  Browser  Region  TrafficType  \\\n",
       "No_missing_data                       0.0      0.0     0.0          0.0   \n",
       "Percentege_missing_data               0.0      0.0     0.0          0.0   \n",
       "\n",
       "                         VisitorType  Weekend  Revenue  \n",
       "No_missing_data                  0.0      0.0      0.0  \n",
       "Percentege_missing_data          0.0      0.0      0.0  "
      ]
     },
     "execution_count": 10,
     "metadata": {},
     "output_type": "execute_result"
    }
   ],
   "source": [
    "def missing_data(dataset):\n",
    "    missing_count = dataset.isnull().sum()\n",
    "    missing_percentage = dataset.isnull().sum() / dataset.count() * 100\n",
    "    missing_table = pd.concat([missing_count, missing_percentage], axis = 1, keys = ['No_missing_data', 'Percentege_missing_data'])\n",
    "    return(np.transpose(missing_table))\n",
    "missing_data(df)"
   ]
  },
  {
   "cell_type": "markdown",
   "metadata": {},
   "source": [
    "### Data Cleaning and Preparation"
   ]
  },
  {
   "cell_type": "markdown",
   "metadata": {},
   "source": [
    "#### Transform Boolean and String Values into Numbers"
   ]
  },
  {
   "cell_type": "code",
   "execution_count": 11,
   "metadata": {},
   "outputs": [
    {
     "data": {
      "text/plain": [
       "Administrative               int64\n",
       "Administrative_Duration    float64\n",
       "Informational                int64\n",
       "Informational_Duration     float64\n",
       "ProductRelated               int64\n",
       "ProductRelated_Duration    float64\n",
       "BounceRates                float64\n",
       "ExitRates                  float64\n",
       "PageValues                 float64\n",
       "SpecialDay                 float64\n",
       "Month                       object\n",
       "OperatingSystems             int64\n",
       "Browser                      int64\n",
       "Region                       int64\n",
       "TrafficType                  int64\n",
       "VisitorType                 object\n",
       "Weekend                       bool\n",
       "Revenue                       bool\n",
       "dtype: object"
      ]
     },
     "execution_count": 11,
     "metadata": {},
     "output_type": "execute_result"
    }
   ],
   "source": [
    "df.dtypes"
   ]
  },
  {
   "cell_type": "code",
   "execution_count": 12,
   "metadata": {},
   "outputs": [],
   "source": [
    "df[[\"Weekend\", \"Revenue\"]] = df[[\"Weekend\", \"Revenue\"]].values.astype(int)"
   ]
  },
  {
   "cell_type": "code",
   "execution_count": 13,
   "metadata": {},
   "outputs": [
    {
     "data": {
      "text/plain": [
       "Administrative               int64\n",
       "Administrative_Duration    float64\n",
       "Informational                int64\n",
       "Informational_Duration     float64\n",
       "ProductRelated               int64\n",
       "ProductRelated_Duration    float64\n",
       "BounceRates                float64\n",
       "ExitRates                  float64\n",
       "PageValues                 float64\n",
       "SpecialDay                 float64\n",
       "Month                       object\n",
       "OperatingSystems             int64\n",
       "Browser                      int64\n",
       "Region                       int64\n",
       "TrafficType                  int64\n",
       "VisitorType                 object\n",
       "Weekend                      int64\n",
       "Revenue                      int64\n",
       "dtype: object"
      ]
     },
     "execution_count": 13,
     "metadata": {},
     "output_type": "execute_result"
    }
   ],
   "source": [
    "df.dtypes"
   ]
  },
  {
   "cell_type": "code",
   "execution_count": 14,
   "metadata": {},
   "outputs": [],
   "source": [
    "df.Weekend = df.Weekend.replace({True: 1, False: 0})\n",
    "df.Revenue = df.Revenue.replace({True: 1, False: 0})"
   ]
  },
  {
   "cell_type": "code",
   "execution_count": 15,
   "metadata": {},
   "outputs": [],
   "source": [
    "dummies= pd.get_dummies(df['VisitorType'],drop_first=True) \n",
    "df=pd.concat([df.drop('VisitorType', axis=1), dummies],axis=1)"
   ]
  },
  {
   "cell_type": "code",
   "execution_count": 16,
   "metadata": {},
   "outputs": [
    {
     "data": {
      "text/plain": [
       "array(['Feb', 'Mar', 'May', 'Oct', 'June', 'Jul', 'Aug', 'Nov', 'Sep',\n",
       "       'Dec'], dtype=object)"
      ]
     },
     "execution_count": 16,
     "metadata": {},
     "output_type": "execute_result"
    }
   ],
   "source": [
    "df.Month.unique()"
   ]
  },
  {
   "cell_type": "code",
   "execution_count": 17,
   "metadata": {},
   "outputs": [],
   "source": [
    "df['Month'] = df['Month'].map({'Feb':2,'Mar':3,'May':5,'Oct':10,'June':6,'Jul':7,'Aug':8,'Nov':11,'Sep':9,'Dec':12})"
   ]
  },
  {
   "cell_type": "code",
   "execution_count": 18,
   "metadata": {},
   "outputs": [
    {
     "data": {
      "text/html": [
       "<div>\n",
       "<style scoped>\n",
       "    .dataframe tbody tr th:only-of-type {\n",
       "        vertical-align: middle;\n",
       "    }\n",
       "\n",
       "    .dataframe tbody tr th {\n",
       "        vertical-align: top;\n",
       "    }\n",
       "\n",
       "    .dataframe thead th {\n",
       "        text-align: right;\n",
       "    }\n",
       "</style>\n",
       "<table border=\"1\" class=\"dataframe\">\n",
       "  <thead>\n",
       "    <tr style=\"text-align: right;\">\n",
       "      <th></th>\n",
       "      <th>Administrative</th>\n",
       "      <th>Administrative_Duration</th>\n",
       "      <th>Informational</th>\n",
       "      <th>Informational_Duration</th>\n",
       "      <th>ProductRelated</th>\n",
       "      <th>ProductRelated_Duration</th>\n",
       "      <th>BounceRates</th>\n",
       "      <th>ExitRates</th>\n",
       "      <th>PageValues</th>\n",
       "      <th>SpecialDay</th>\n",
       "      <th>Month</th>\n",
       "      <th>OperatingSystems</th>\n",
       "      <th>Browser</th>\n",
       "      <th>Region</th>\n",
       "      <th>TrafficType</th>\n",
       "      <th>Weekend</th>\n",
       "      <th>Revenue</th>\n",
       "      <th>Other</th>\n",
       "      <th>Returning_Visitor</th>\n",
       "    </tr>\n",
       "  </thead>\n",
       "  <tbody>\n",
       "    <tr>\n",
       "      <th>0</th>\n",
       "      <td>0</td>\n",
       "      <td>0.0</td>\n",
       "      <td>0</td>\n",
       "      <td>0.0</td>\n",
       "      <td>1</td>\n",
       "      <td>0.000000</td>\n",
       "      <td>0.20</td>\n",
       "      <td>0.20</td>\n",
       "      <td>0.0</td>\n",
       "      <td>0.0</td>\n",
       "      <td>2</td>\n",
       "      <td>1</td>\n",
       "      <td>1</td>\n",
       "      <td>1</td>\n",
       "      <td>1</td>\n",
       "      <td>0</td>\n",
       "      <td>0</td>\n",
       "      <td>0</td>\n",
       "      <td>1</td>\n",
       "    </tr>\n",
       "    <tr>\n",
       "      <th>1</th>\n",
       "      <td>0</td>\n",
       "      <td>0.0</td>\n",
       "      <td>0</td>\n",
       "      <td>0.0</td>\n",
       "      <td>2</td>\n",
       "      <td>64.000000</td>\n",
       "      <td>0.00</td>\n",
       "      <td>0.10</td>\n",
       "      <td>0.0</td>\n",
       "      <td>0.0</td>\n",
       "      <td>2</td>\n",
       "      <td>2</td>\n",
       "      <td>2</td>\n",
       "      <td>1</td>\n",
       "      <td>2</td>\n",
       "      <td>0</td>\n",
       "      <td>0</td>\n",
       "      <td>0</td>\n",
       "      <td>1</td>\n",
       "    </tr>\n",
       "    <tr>\n",
       "      <th>2</th>\n",
       "      <td>0</td>\n",
       "      <td>0.0</td>\n",
       "      <td>0</td>\n",
       "      <td>0.0</td>\n",
       "      <td>1</td>\n",
       "      <td>0.000000</td>\n",
       "      <td>0.20</td>\n",
       "      <td>0.20</td>\n",
       "      <td>0.0</td>\n",
       "      <td>0.0</td>\n",
       "      <td>2</td>\n",
       "      <td>4</td>\n",
       "      <td>1</td>\n",
       "      <td>9</td>\n",
       "      <td>3</td>\n",
       "      <td>0</td>\n",
       "      <td>0</td>\n",
       "      <td>0</td>\n",
       "      <td>1</td>\n",
       "    </tr>\n",
       "    <tr>\n",
       "      <th>3</th>\n",
       "      <td>0</td>\n",
       "      <td>0.0</td>\n",
       "      <td>0</td>\n",
       "      <td>0.0</td>\n",
       "      <td>2</td>\n",
       "      <td>2.666667</td>\n",
       "      <td>0.05</td>\n",
       "      <td>0.14</td>\n",
       "      <td>0.0</td>\n",
       "      <td>0.0</td>\n",
       "      <td>2</td>\n",
       "      <td>3</td>\n",
       "      <td>2</td>\n",
       "      <td>2</td>\n",
       "      <td>4</td>\n",
       "      <td>0</td>\n",
       "      <td>0</td>\n",
       "      <td>0</td>\n",
       "      <td>1</td>\n",
       "    </tr>\n",
       "    <tr>\n",
       "      <th>4</th>\n",
       "      <td>0</td>\n",
       "      <td>0.0</td>\n",
       "      <td>0</td>\n",
       "      <td>0.0</td>\n",
       "      <td>10</td>\n",
       "      <td>627.500000</td>\n",
       "      <td>0.02</td>\n",
       "      <td>0.05</td>\n",
       "      <td>0.0</td>\n",
       "      <td>0.0</td>\n",
       "      <td>2</td>\n",
       "      <td>3</td>\n",
       "      <td>3</td>\n",
       "      <td>1</td>\n",
       "      <td>4</td>\n",
       "      <td>1</td>\n",
       "      <td>0</td>\n",
       "      <td>0</td>\n",
       "      <td>1</td>\n",
       "    </tr>\n",
       "  </tbody>\n",
       "</table>\n",
       "</div>"
      ],
      "text/plain": [
       "   Administrative  Administrative_Duration  Informational  \\\n",
       "0               0                      0.0              0   \n",
       "1               0                      0.0              0   \n",
       "2               0                      0.0              0   \n",
       "3               0                      0.0              0   \n",
       "4               0                      0.0              0   \n",
       "\n",
       "   Informational_Duration  ProductRelated  ProductRelated_Duration  \\\n",
       "0                     0.0               1                 0.000000   \n",
       "1                     0.0               2                64.000000   \n",
       "2                     0.0               1                 0.000000   \n",
       "3                     0.0               2                 2.666667   \n",
       "4                     0.0              10               627.500000   \n",
       "\n",
       "   BounceRates  ExitRates  PageValues  SpecialDay  Month  OperatingSystems  \\\n",
       "0         0.20       0.20         0.0         0.0      2                 1   \n",
       "1         0.00       0.10         0.0         0.0      2                 2   \n",
       "2         0.20       0.20         0.0         0.0      2                 4   \n",
       "3         0.05       0.14         0.0         0.0      2                 3   \n",
       "4         0.02       0.05         0.0         0.0      2                 3   \n",
       "\n",
       "   Browser  Region  TrafficType  Weekend  Revenue  Other  Returning_Visitor  \n",
       "0        1       1            1        0        0      0                  1  \n",
       "1        2       1            2        0        0      0                  1  \n",
       "2        1       9            3        0        0      0                  1  \n",
       "3        2       2            4        0        0      0                  1  \n",
       "4        3       1            4        1        0      0                  1  "
      ]
     },
     "execution_count": 18,
     "metadata": {},
     "output_type": "execute_result"
    }
   ],
   "source": [
    "df.head()"
   ]
  },
  {
   "cell_type": "code",
   "execution_count": 19,
   "metadata": {},
   "outputs": [
    {
     "name": "stdout",
     "output_type": "stream",
     "text": [
      "<class 'pandas.core.frame.DataFrame'>\n",
      "RangeIndex: 12330 entries, 0 to 12329\n",
      "Data columns (total 19 columns):\n",
      " #   Column                   Non-Null Count  Dtype  \n",
      "---  ------                   --------------  -----  \n",
      " 0   Administrative           12330 non-null  int64  \n",
      " 1   Administrative_Duration  12330 non-null  float64\n",
      " 2   Informational            12330 non-null  int64  \n",
      " 3   Informational_Duration   12330 non-null  float64\n",
      " 4   ProductRelated           12330 non-null  int64  \n",
      " 5   ProductRelated_Duration  12330 non-null  float64\n",
      " 6   BounceRates              12330 non-null  float64\n",
      " 7   ExitRates                12330 non-null  float64\n",
      " 8   PageValues               12330 non-null  float64\n",
      " 9   SpecialDay               12330 non-null  float64\n",
      " 10  Month                    12330 non-null  int64  \n",
      " 11  OperatingSystems         12330 non-null  int64  \n",
      " 12  Browser                  12330 non-null  int64  \n",
      " 13  Region                   12330 non-null  int64  \n",
      " 14  TrafficType              12330 non-null  int64  \n",
      " 15  Weekend                  12330 non-null  int64  \n",
      " 16  Revenue                  12330 non-null  int64  \n",
      " 17  Other                    12330 non-null  uint8  \n",
      " 18  Returning_Visitor        12330 non-null  uint8  \n",
      "dtypes: float64(7), int64(10), uint8(2)\n",
      "memory usage: 1.6 MB\n"
     ]
    }
   ],
   "source": [
    "df.info()"
   ]
  },
  {
   "cell_type": "code",
   "execution_count": null,
   "metadata": {},
   "outputs": [],
   "source": []
  },
  {
   "cell_type": "markdown",
   "metadata": {},
   "source": [
    "### Dropping the Missing Value"
   ]
  },
  {
   "cell_type": "code",
   "execution_count": 20,
   "metadata": {
    "ExecuteTime": {
     "end_time": "2020-08-05T11:38:27.155518Z",
     "start_time": "2020-08-05T11:38:27.139686Z"
    }
   },
   "outputs": [],
   "source": [
    "df = df.dropna()"
   ]
  },
  {
   "cell_type": "code",
   "execution_count": 21,
   "metadata": {
    "ExecuteTime": {
     "end_time": "2020-08-06T08:12:05.134208Z",
     "start_time": "2020-08-06T08:12:05.125141Z"
    }
   },
   "outputs": [
    {
     "data": {
      "text/plain": [
       "(12330, 19)"
      ]
     },
     "execution_count": 21,
     "metadata": {},
     "output_type": "execute_result"
    }
   ],
   "source": [
    "df.shape"
   ]
  },
  {
   "cell_type": "code",
   "execution_count": 22,
   "metadata": {
    "ExecuteTime": {
     "end_time": "2020-08-06T09:25:55.690824Z",
     "start_time": "2020-08-06T09:25:55.679730Z"
    }
   },
   "outputs": [
    {
     "data": {
      "text/plain": [
       "Administrative               int64\n",
       "Administrative_Duration    float64\n",
       "Informational                int64\n",
       "Informational_Duration     float64\n",
       "ProductRelated               int64\n",
       "ProductRelated_Duration    float64\n",
       "BounceRates                float64\n",
       "ExitRates                  float64\n",
       "PageValues                 float64\n",
       "SpecialDay                 float64\n",
       "Month                        int64\n",
       "OperatingSystems             int64\n",
       "Browser                      int64\n",
       "Region                       int64\n",
       "TrafficType                  int64\n",
       "Weekend                      int64\n",
       "Revenue                      int64\n",
       "Other                        uint8\n",
       "Returning_Visitor            uint8\n",
       "dtype: object"
      ]
     },
     "execution_count": 22,
     "metadata": {},
     "output_type": "execute_result"
    }
   ],
   "source": [
    "df.dtypes"
   ]
  },
  {
   "cell_type": "markdown",
   "metadata": {},
   "source": [
    "a. Explanation of attributes"
   ]
  },
  {
   "cell_type": "markdown",
   "metadata": {},
   "source": [
    "**Page types and the duration spent on each page**\n",
    "\n",
    "- Administrative\n",
    "- Administative_Duration \n",
    "- Informational\n",
    "- Informational_Duration \n",
    "\n",
    "- ProductRelated\n",
    "- ProductRelated_Duration\n",
    "\n",
    "**Metric Attributes**\n",
    "\n",
    "BounceRates (enter and leave without interaction)\n",
    "ExitRates (% that were last in the session)\n",
    "PageValues (average value for a web page that user visited before completing transaction)"
   ]
  },
  {
   "cell_type": "code",
   "execution_count": 23,
   "metadata": {
    "ExecuteTime": {
     "end_time": "2020-08-06T09:30:36.289087Z",
     "start_time": "2020-08-06T09:30:36.255217Z"
    }
   },
   "outputs": [
    {
     "data": {
      "text/html": [
       "<div>\n",
       "<style scoped>\n",
       "    .dataframe tbody tr th:only-of-type {\n",
       "        vertical-align: middle;\n",
       "    }\n",
       "\n",
       "    .dataframe tbody tr th {\n",
       "        vertical-align: top;\n",
       "    }\n",
       "\n",
       "    .dataframe thead th {\n",
       "        text-align: right;\n",
       "    }\n",
       "</style>\n",
       "<table border=\"1\" class=\"dataframe\">\n",
       "  <thead>\n",
       "    <tr style=\"text-align: right;\">\n",
       "      <th></th>\n",
       "      <th>Min</th>\n",
       "      <th>Max</th>\n",
       "    </tr>\n",
       "  </thead>\n",
       "  <tbody>\n",
       "    <tr>\n",
       "      <th>Administrative</th>\n",
       "      <td>0.0</td>\n",
       "      <td>27.000000</td>\n",
       "    </tr>\n",
       "    <tr>\n",
       "      <th>Administrative_Duration</th>\n",
       "      <td>0.0</td>\n",
       "      <td>3398.750000</td>\n",
       "    </tr>\n",
       "    <tr>\n",
       "      <th>Informational</th>\n",
       "      <td>0.0</td>\n",
       "      <td>24.000000</td>\n",
       "    </tr>\n",
       "    <tr>\n",
       "      <th>Informational_Duration</th>\n",
       "      <td>0.0</td>\n",
       "      <td>2549.375000</td>\n",
       "    </tr>\n",
       "    <tr>\n",
       "      <th>ProductRelated</th>\n",
       "      <td>0.0</td>\n",
       "      <td>705.000000</td>\n",
       "    </tr>\n",
       "    <tr>\n",
       "      <th>ProductRelated_Duration</th>\n",
       "      <td>0.0</td>\n",
       "      <td>63973.522230</td>\n",
       "    </tr>\n",
       "    <tr>\n",
       "      <th>BounceRates</th>\n",
       "      <td>0.0</td>\n",
       "      <td>0.200000</td>\n",
       "    </tr>\n",
       "    <tr>\n",
       "      <th>ExitRates</th>\n",
       "      <td>0.0</td>\n",
       "      <td>0.200000</td>\n",
       "    </tr>\n",
       "    <tr>\n",
       "      <th>PageValues</th>\n",
       "      <td>0.0</td>\n",
       "      <td>361.763742</td>\n",
       "    </tr>\n",
       "    <tr>\n",
       "      <th>SpecialDay</th>\n",
       "      <td>0.0</td>\n",
       "      <td>1.000000</td>\n",
       "    </tr>\n",
       "  </tbody>\n",
       "</table>\n",
       "</div>"
      ],
      "text/plain": [
       "                         Min           Max\n",
       "Administrative           0.0     27.000000\n",
       "Administrative_Duration  0.0   3398.750000\n",
       "Informational            0.0     24.000000\n",
       "Informational_Duration   0.0   2549.375000\n",
       "ProductRelated           0.0    705.000000\n",
       "ProductRelated_Duration  0.0  63973.522230\n",
       "BounceRates              0.0      0.200000\n",
       "ExitRates                0.0      0.200000\n",
       "PageValues               0.0    361.763742\n",
       "SpecialDay               0.0      1.000000"
      ]
     },
     "execution_count": 23,
     "metadata": {},
     "output_type": "execute_result"
    }
   ],
   "source": [
    "minmax = pd.DataFrame(df.iloc[:, list(range(10))].min())\n",
    "minmax['Max'] = df.iloc[:, list(range(10))].max()\n",
    "minmax.columns = ['Min', 'Max']\n",
    "minmax"
   ]
  },
  {
   "cell_type": "code",
   "execution_count": 24,
   "metadata": {
    "ExecuteTime": {
     "end_time": "2020-08-06T09:35:14.898752Z",
     "start_time": "2020-08-06T09:35:14.891433Z"
    }
   },
   "outputs": [
    {
     "data": {
      "text/plain": [
       "(12330, 19)"
      ]
     },
     "execution_count": 24,
     "metadata": {},
     "output_type": "execute_result"
    }
   ],
   "source": [
    "df.shape"
   ]
  },
  {
   "cell_type": "code",
   "execution_count": 25,
   "metadata": {
    "ExecuteTime": {
     "end_time": "2020-08-06T09:35:34.817543Z",
     "start_time": "2020-08-06T09:35:34.791233Z"
    }
   },
   "outputs": [
    {
     "data": {
      "text/plain": [
       "(12330, 19)"
      ]
     },
     "execution_count": 25,
     "metadata": {},
     "output_type": "execute_result"
    }
   ],
   "source": [
    "df['Administrative'] = df['Administrative'].replace(-1, float('nan'))\n",
    "df['Administrative_Duration'] = df['Administrative_Duration'].replace(-1, np.nan)\n",
    "df['Informational'] = df['Informational'].replace(-1, np.nan)\n",
    "df['Informational_Duration'] = df['Informational_Duration'].replace(-1, np.nan)\n",
    "df['ProductRelated'] = df['ProductRelated'].replace(-1, np.nan)\n",
    "df['ProductRelated_Duration'] = df['ProductRelated_Duration'].replace(-1, np.nan)\n",
    "df = df.dropna(axis=0, how='any')\n",
    "df.shape"
   ]
  },
  {
   "cell_type": "markdown",
   "metadata": {},
   "source": [
    "### Feature Selection"
   ]
  },
  {
   "cell_type": "code",
   "execution_count": 26,
   "metadata": {
    "ExecuteTime": {
     "end_time": "2020-08-06T09:38:51.663930Z",
     "start_time": "2020-08-06T09:38:51.635690Z"
    }
   },
   "outputs": [
    {
     "data": {
      "text/html": [
       "<div>\n",
       "<style scoped>\n",
       "    .dataframe tbody tr th:only-of-type {\n",
       "        vertical-align: middle;\n",
       "    }\n",
       "\n",
       "    .dataframe tbody tr th {\n",
       "        vertical-align: top;\n",
       "    }\n",
       "\n",
       "    .dataframe thead th {\n",
       "        text-align: right;\n",
       "    }\n",
       "</style>\n",
       "<table border=\"1\" class=\"dataframe\">\n",
       "  <thead>\n",
       "    <tr style=\"text-align: right;\">\n",
       "      <th></th>\n",
       "      <th>Administrative</th>\n",
       "      <th>Administrative_Duration</th>\n",
       "      <th>Informational</th>\n",
       "      <th>Informational_Duration</th>\n",
       "      <th>ProductRelated</th>\n",
       "      <th>ProductRelated_Duration</th>\n",
       "      <th>BounceRates</th>\n",
       "      <th>ExitRates</th>\n",
       "      <th>PageValues</th>\n",
       "      <th>SpecialDay</th>\n",
       "      <th>Revenue</th>\n",
       "    </tr>\n",
       "  </thead>\n",
       "  <tbody>\n",
       "    <tr>\n",
       "      <th>0</th>\n",
       "      <td>0</td>\n",
       "      <td>0.0</td>\n",
       "      <td>0</td>\n",
       "      <td>0.0</td>\n",
       "      <td>1</td>\n",
       "      <td>0.000000</td>\n",
       "      <td>0.20</td>\n",
       "      <td>0.20</td>\n",
       "      <td>0.0</td>\n",
       "      <td>0.0</td>\n",
       "      <td>0</td>\n",
       "    </tr>\n",
       "    <tr>\n",
       "      <th>1</th>\n",
       "      <td>0</td>\n",
       "      <td>0.0</td>\n",
       "      <td>0</td>\n",
       "      <td>0.0</td>\n",
       "      <td>2</td>\n",
       "      <td>64.000000</td>\n",
       "      <td>0.00</td>\n",
       "      <td>0.10</td>\n",
       "      <td>0.0</td>\n",
       "      <td>0.0</td>\n",
       "      <td>0</td>\n",
       "    </tr>\n",
       "    <tr>\n",
       "      <th>2</th>\n",
       "      <td>0</td>\n",
       "      <td>0.0</td>\n",
       "      <td>0</td>\n",
       "      <td>0.0</td>\n",
       "      <td>1</td>\n",
       "      <td>0.000000</td>\n",
       "      <td>0.20</td>\n",
       "      <td>0.20</td>\n",
       "      <td>0.0</td>\n",
       "      <td>0.0</td>\n",
       "      <td>0</td>\n",
       "    </tr>\n",
       "    <tr>\n",
       "      <th>3</th>\n",
       "      <td>0</td>\n",
       "      <td>0.0</td>\n",
       "      <td>0</td>\n",
       "      <td>0.0</td>\n",
       "      <td>2</td>\n",
       "      <td>2.666667</td>\n",
       "      <td>0.05</td>\n",
       "      <td>0.14</td>\n",
       "      <td>0.0</td>\n",
       "      <td>0.0</td>\n",
       "      <td>0</td>\n",
       "    </tr>\n",
       "    <tr>\n",
       "      <th>4</th>\n",
       "      <td>0</td>\n",
       "      <td>0.0</td>\n",
       "      <td>0</td>\n",
       "      <td>0.0</td>\n",
       "      <td>10</td>\n",
       "      <td>627.500000</td>\n",
       "      <td>0.02</td>\n",
       "      <td>0.05</td>\n",
       "      <td>0.0</td>\n",
       "      <td>0.0</td>\n",
       "      <td>0</td>\n",
       "    </tr>\n",
       "  </tbody>\n",
       "</table>\n",
       "</div>"
      ],
      "text/plain": [
       "   Administrative  Administrative_Duration  Informational  \\\n",
       "0               0                      0.0              0   \n",
       "1               0                      0.0              0   \n",
       "2               0                      0.0              0   \n",
       "3               0                      0.0              0   \n",
       "4               0                      0.0              0   \n",
       "\n",
       "   Informational_Duration  ProductRelated  ProductRelated_Duration  \\\n",
       "0                     0.0               1                 0.000000   \n",
       "1                     0.0               2                64.000000   \n",
       "2                     0.0               1                 0.000000   \n",
       "3                     0.0               2                 2.666667   \n",
       "4                     0.0              10               627.500000   \n",
       "\n",
       "   BounceRates  ExitRates  PageValues  SpecialDay  Revenue  \n",
       "0         0.20       0.20         0.0         0.0        0  \n",
       "1         0.00       0.10         0.0         0.0        0  \n",
       "2         0.20       0.20         0.0         0.0        0  \n",
       "3         0.05       0.14         0.0         0.0        0  \n",
       "4         0.02       0.05         0.0         0.0        0  "
      ]
     },
     "execution_count": 26,
     "metadata": {},
     "output_type": "execute_result"
    }
   ],
   "source": [
    "numeric_df = df.iloc[:, list(range(10))]\n",
    "numeric_df['Revenue'] = df['Revenue']\n",
    "numeric_df.head()"
   ]
  },
  {
   "cell_type": "markdown",
   "metadata": {},
   "source": [
    "Correlation states how the features are related to each other or the target variable.\n",
    "Correlation can be positive (increase in one value of feature increases the value of the target variable) or negative (increase in one value of feature decreases the value of the target variable)\n",
    "Plotting a correlation matrix with heatmap makes it easy to identify which features are most related to the target variable."
   ]
  },
  {
   "cell_type": "code",
   "execution_count": 27,
   "metadata": {
    "ExecuteTime": {
     "end_time": "2020-08-06T09:41:47.220368Z",
     "start_time": "2020-08-06T09:41:47.058249Z"
    }
   },
   "outputs": [
    {
     "data": {
      "text/html": [
       "<style  type=\"text/css\" >\n",
       "    #T_d640f67a_dcd6_11ea_aff3_acde48001122row0_col0 {\n",
       "            background-color:  #b40426;\n",
       "            color:  #f1f1f1;\n",
       "        }    #T_d640f67a_dcd6_11ea_aff3_acde48001122row0_col1 {\n",
       "            background-color:  #f7b79b;\n",
       "            color:  #000000;\n",
       "        }    #T_d640f67a_dcd6_11ea_aff3_acde48001122row0_col2 {\n",
       "            background-color:  #d4dbe6;\n",
       "            color:  #000000;\n",
       "        }    #T_d640f67a_dcd6_11ea_aff3_acde48001122row0_col3 {\n",
       "            background-color:  #aac7fd;\n",
       "            color:  #000000;\n",
       "        }    #T_d640f67a_dcd6_11ea_aff3_acde48001122row0_col4 {\n",
       "            background-color:  #ead4c8;\n",
       "            color:  #000000;\n",
       "        }    #T_d640f67a_dcd6_11ea_aff3_acde48001122row0_col5 {\n",
       "            background-color:  #dbdcde;\n",
       "            color:  #000000;\n",
       "        }    #T_d640f67a_dcd6_11ea_aff3_acde48001122row0_col6 {\n",
       "            background-color:  #3b4cc0;\n",
       "            color:  #f1f1f1;\n",
       "        }    #T_d640f67a_dcd6_11ea_aff3_acde48001122row0_col7 {\n",
       "            background-color:  #3b4cc0;\n",
       "            color:  #f1f1f1;\n",
       "        }    #T_d640f67a_dcd6_11ea_aff3_acde48001122row0_col8 {\n",
       "            background-color:  #86a9fc;\n",
       "            color:  #000000;\n",
       "        }    #T_d640f67a_dcd6_11ea_aff3_acde48001122row0_col9 {\n",
       "            background-color:  #3b4cc0;\n",
       "            color:  #f1f1f1;\n",
       "        }    #T_d640f67a_dcd6_11ea_aff3_acde48001122row0_col10 {\n",
       "            background-color:  #9bbcff;\n",
       "            color:  #000000;\n",
       "        }    #T_d640f67a_dcd6_11ea_aff3_acde48001122row1_col0 {\n",
       "            background-color:  #f7ad90;\n",
       "            color:  #000000;\n",
       "        }    #T_d640f67a_dcd6_11ea_aff3_acde48001122row1_col1 {\n",
       "            background-color:  #b40426;\n",
       "            color:  #f1f1f1;\n",
       "        }    #T_d640f67a_dcd6_11ea_aff3_acde48001122row1_col2 {\n",
       "            background-color:  #bfd3f6;\n",
       "            color:  #000000;\n",
       "        }    #T_d640f67a_dcd6_11ea_aff3_acde48001122row1_col3 {\n",
       "            background-color:  #a3c2fe;\n",
       "            color:  #000000;\n",
       "        }    #T_d640f67a_dcd6_11ea_aff3_acde48001122row1_col4 {\n",
       "            background-color:  #cfdaea;\n",
       "            color:  #000000;\n",
       "        }    #T_d640f67a_dcd6_11ea_aff3_acde48001122row1_col5 {\n",
       "            background-color:  #d9dce1;\n",
       "            color:  #000000;\n",
       "        }    #T_d640f67a_dcd6_11ea_aff3_acde48001122row1_col6 {\n",
       "            background-color:  #4e68d8;\n",
       "            color:  #000000;\n",
       "        }    #T_d640f67a_dcd6_11ea_aff3_acde48001122row1_col7 {\n",
       "            background-color:  #5470de;\n",
       "            color:  #000000;\n",
       "        }    #T_d640f67a_dcd6_11ea_aff3_acde48001122row1_col8 {\n",
       "            background-color:  #7da0f9;\n",
       "            color:  #000000;\n",
       "        }    #T_d640f67a_dcd6_11ea_aff3_acde48001122row1_col9 {\n",
       "            background-color:  #3f53c6;\n",
       "            color:  #f1f1f1;\n",
       "        }    #T_d640f67a_dcd6_11ea_aff3_acde48001122row1_col10 {\n",
       "            background-color:  #8caffe;\n",
       "            color:  #000000;\n",
       "        }    #T_d640f67a_dcd6_11ea_aff3_acde48001122row2_col0 {\n",
       "            background-color:  #e4d9d2;\n",
       "            color:  #000000;\n",
       "        }    #T_d640f67a_dcd6_11ea_aff3_acde48001122row2_col1 {\n",
       "            background-color:  #c6d6f1;\n",
       "            color:  #000000;\n",
       "        }    #T_d640f67a_dcd6_11ea_aff3_acde48001122row2_col2 {\n",
       "            background-color:  #b40426;\n",
       "            color:  #f1f1f1;\n",
       "        }    #T_d640f67a_dcd6_11ea_aff3_acde48001122row2_col3 {\n",
       "            background-color:  #f7ba9f;\n",
       "            color:  #000000;\n",
       "        }    #T_d640f67a_dcd6_11ea_aff3_acde48001122row2_col4 {\n",
       "            background-color:  #dfdbd9;\n",
       "            color:  #000000;\n",
       "        }    #T_d640f67a_dcd6_11ea_aff3_acde48001122row2_col5 {\n",
       "            background-color:  #e0dbd8;\n",
       "            color:  #000000;\n",
       "        }    #T_d640f67a_dcd6_11ea_aff3_acde48001122row2_col6 {\n",
       "            background-color:  #536edd;\n",
       "            color:  #000000;\n",
       "        }    #T_d640f67a_dcd6_11ea_aff3_acde48001122row2_col7 {\n",
       "            background-color:  #6180e9;\n",
       "            color:  #000000;\n",
       "        }    #T_d640f67a_dcd6_11ea_aff3_acde48001122row2_col8 {\n",
       "            background-color:  #779af7;\n",
       "            color:  #000000;\n",
       "        }    #T_d640f67a_dcd6_11ea_aff3_acde48001122row2_col9 {\n",
       "            background-color:  #455cce;\n",
       "            color:  #f1f1f1;\n",
       "        }    #T_d640f67a_dcd6_11ea_aff3_acde48001122row2_col10 {\n",
       "            background-color:  #8fb1fe;\n",
       "            color:  #000000;\n",
       "        }    #T_d640f67a_dcd6_11ea_aff3_acde48001122row3_col0 {\n",
       "            background-color:  #ccd9ed;\n",
       "            color:  #000000;\n",
       "        }    #T_d640f67a_dcd6_11ea_aff3_acde48001122row3_col1 {\n",
       "            background-color:  #b7cff9;\n",
       "            color:  #000000;\n",
       "        }    #T_d640f67a_dcd6_11ea_aff3_acde48001122row3_col2 {\n",
       "            background-color:  #f7b599;\n",
       "            color:  #000000;\n",
       "        }    #T_d640f67a_dcd6_11ea_aff3_acde48001122row3_col3 {\n",
       "            background-color:  #b40426;\n",
       "            color:  #f1f1f1;\n",
       "        }    #T_d640f67a_dcd6_11ea_aff3_acde48001122row3_col4 {\n",
       "            background-color:  #cdd9ec;\n",
       "            color:  #000000;\n",
       "        }    #T_d640f67a_dcd6_11ea_aff3_acde48001122row3_col5 {\n",
       "            background-color:  #d7dce3;\n",
       "            color:  #000000;\n",
       "        }    #T_d640f67a_dcd6_11ea_aff3_acde48001122row3_col6 {\n",
       "            background-color:  #6180e9;\n",
       "            color:  #000000;\n",
       "        }    #T_d640f67a_dcd6_11ea_aff3_acde48001122row3_col7 {\n",
       "            background-color:  #6c8ff1;\n",
       "            color:  #000000;\n",
       "        }    #T_d640f67a_dcd6_11ea_aff3_acde48001122row3_col8 {\n",
       "            background-color:  #7093f3;\n",
       "            color:  #000000;\n",
       "        }    #T_d640f67a_dcd6_11ea_aff3_acde48001122row3_col9 {\n",
       "            background-color:  #4b64d5;\n",
       "            color:  #f1f1f1;\n",
       "        }    #T_d640f67a_dcd6_11ea_aff3_acde48001122row3_col10 {\n",
       "            background-color:  #86a9fc;\n",
       "            color:  #000000;\n",
       "        }    #T_d640f67a_dcd6_11ea_aff3_acde48001122row4_col0 {\n",
       "            background-color:  #edd2c3;\n",
       "            color:  #000000;\n",
       "        }    #T_d640f67a_dcd6_11ea_aff3_acde48001122row4_col1 {\n",
       "            background-color:  #c4d5f3;\n",
       "            color:  #000000;\n",
       "        }    #T_d640f67a_dcd6_11ea_aff3_acde48001122row4_col2 {\n",
       "            background-color:  #d1dae9;\n",
       "            color:  #000000;\n",
       "        }    #T_d640f67a_dcd6_11ea_aff3_acde48001122row4_col3 {\n",
       "            background-color:  #afcafc;\n",
       "            color:  #000000;\n",
       "        }    #T_d640f67a_dcd6_11ea_aff3_acde48001122row4_col4 {\n",
       "            background-color:  #b40426;\n",
       "            color:  #f1f1f1;\n",
       "        }    #T_d640f67a_dcd6_11ea_aff3_acde48001122row4_col5 {\n",
       "            background-color:  #d95847;\n",
       "            color:  #000000;\n",
       "        }    #T_d640f67a_dcd6_11ea_aff3_acde48001122row4_col6 {\n",
       "            background-color:  #3f53c6;\n",
       "            color:  #f1f1f1;\n",
       "        }    #T_d640f67a_dcd6_11ea_aff3_acde48001122row4_col7 {\n",
       "            background-color:  #4055c8;\n",
       "            color:  #f1f1f1;\n",
       "        }    #T_d640f67a_dcd6_11ea_aff3_acde48001122row4_col8 {\n",
       "            background-color:  #7a9df8;\n",
       "            color:  #000000;\n",
       "        }    #T_d640f67a_dcd6_11ea_aff3_acde48001122row4_col9 {\n",
       "            background-color:  #4e68d8;\n",
       "            color:  #000000;\n",
       "        }    #T_d640f67a_dcd6_11ea_aff3_acde48001122row4_col10 {\n",
       "            background-color:  #a1c0ff;\n",
       "            color:  #000000;\n",
       "        }    #T_d640f67a_dcd6_11ea_aff3_acde48001122row5_col0 {\n",
       "            background-color:  #e2dad5;\n",
       "            color:  #000000;\n",
       "        }    #T_d640f67a_dcd6_11ea_aff3_acde48001122row5_col1 {\n",
       "            background-color:  #d5dbe5;\n",
       "            color:  #000000;\n",
       "        }    #T_d640f67a_dcd6_11ea_aff3_acde48001122row5_col2 {\n",
       "            background-color:  #d6dce4;\n",
       "            color:  #000000;\n",
       "        }    #T_d640f67a_dcd6_11ea_aff3_acde48001122row5_col3 {\n",
       "            background-color:  #c5d6f2;\n",
       "            color:  #000000;\n",
       "        }    #T_d640f67a_dcd6_11ea_aff3_acde48001122row5_col4 {\n",
       "            background-color:  #d85646;\n",
       "            color:  #000000;\n",
       "        }    #T_d640f67a_dcd6_11ea_aff3_acde48001122row5_col5 {\n",
       "            background-color:  #b40426;\n",
       "            color:  #f1f1f1;\n",
       "        }    #T_d640f67a_dcd6_11ea_aff3_acde48001122row5_col6 {\n",
       "            background-color:  #445acc;\n",
       "            color:  #f1f1f1;\n",
       "        }    #T_d640f67a_dcd6_11ea_aff3_acde48001122row5_col7 {\n",
       "            background-color:  #4a63d3;\n",
       "            color:  #f1f1f1;\n",
       "        }    #T_d640f67a_dcd6_11ea_aff3_acde48001122row5_col8 {\n",
       "            background-color:  #779af7;\n",
       "            color:  #000000;\n",
       "        }    #T_d640f67a_dcd6_11ea_aff3_acde48001122row5_col9 {\n",
       "            background-color:  #485fd1;\n",
       "            color:  #f1f1f1;\n",
       "        }    #T_d640f67a_dcd6_11ea_aff3_acde48001122row5_col10 {\n",
       "            background-color:  #9ebeff;\n",
       "            color:  #000000;\n",
       "        }    #T_d640f67a_dcd6_11ea_aff3_acde48001122row6_col0 {\n",
       "            background-color:  #516ddb;\n",
       "            color:  #000000;\n",
       "        }    #T_d640f67a_dcd6_11ea_aff3_acde48001122row6_col1 {\n",
       "            background-color:  #4b64d5;\n",
       "            color:  #f1f1f1;\n",
       "        }    #T_d640f67a_dcd6_11ea_aff3_acde48001122row6_col2 {\n",
       "            background-color:  #445acc;\n",
       "            color:  #f1f1f1;\n",
       "        }    #T_d640f67a_dcd6_11ea_aff3_acde48001122row6_col3 {\n",
       "            background-color:  #455cce;\n",
       "            color:  #f1f1f1;\n",
       "        }    #T_d640f67a_dcd6_11ea_aff3_acde48001122row6_col4 {\n",
       "            background-color:  #4f69d9;\n",
       "            color:  #000000;\n",
       "        }    #T_d640f67a_dcd6_11ea_aff3_acde48001122row6_col5 {\n",
       "            background-color:  #4b64d5;\n",
       "            color:  #f1f1f1;\n",
       "        }    #T_d640f67a_dcd6_11ea_aff3_acde48001122row6_col6 {\n",
       "            background-color:  #b40426;\n",
       "            color:  #f1f1f1;\n",
       "        }    #T_d640f67a_dcd6_11ea_aff3_acde48001122row6_col7 {\n",
       "            background-color:  #cc403a;\n",
       "            color:  #f1f1f1;\n",
       "        }    #T_d640f67a_dcd6_11ea_aff3_acde48001122row6_col8 {\n",
       "            background-color:  #465ecf;\n",
       "            color:  #f1f1f1;\n",
       "        }    #T_d640f67a_dcd6_11ea_aff3_acde48001122row6_col9 {\n",
       "            background-color:  #688aef;\n",
       "            color:  #000000;\n",
       "        }    #T_d640f67a_dcd6_11ea_aff3_acde48001122row6_col10 {\n",
       "            background-color:  #4961d2;\n",
       "            color:  #f1f1f1;\n",
       "        }    #T_d640f67a_dcd6_11ea_aff3_acde48001122row7_col0 {\n",
       "            background-color:  #3b4cc0;\n",
       "            color:  #f1f1f1;\n",
       "        }    #T_d640f67a_dcd6_11ea_aff3_acde48001122row7_col1 {\n",
       "            background-color:  #3b4cc0;\n",
       "            color:  #f1f1f1;\n",
       "        }    #T_d640f67a_dcd6_11ea_aff3_acde48001122row7_col2 {\n",
       "            background-color:  #3b4cc0;\n",
       "            color:  #f1f1f1;\n",
       "        }    #T_d640f67a_dcd6_11ea_aff3_acde48001122row7_col3 {\n",
       "            background-color:  #3b4cc0;\n",
       "            color:  #f1f1f1;\n",
       "        }    #T_d640f67a_dcd6_11ea_aff3_acde48001122row7_col4 {\n",
       "            background-color:  #3b4cc0;\n",
       "            color:  #f1f1f1;\n",
       "        }    #T_d640f67a_dcd6_11ea_aff3_acde48001122row7_col5 {\n",
       "            background-color:  #3b4cc0;\n",
       "            color:  #f1f1f1;\n",
       "        }    #T_d640f67a_dcd6_11ea_aff3_acde48001122row7_col6 {\n",
       "            background-color:  #cd423b;\n",
       "            color:  #f1f1f1;\n",
       "        }    #T_d640f67a_dcd6_11ea_aff3_acde48001122row7_col7 {\n",
       "            background-color:  #b40426;\n",
       "            color:  #f1f1f1;\n",
       "        }    #T_d640f67a_dcd6_11ea_aff3_acde48001122row7_col8 {\n",
       "            background-color:  #3b4cc0;\n",
       "            color:  #f1f1f1;\n",
       "        }    #T_d640f67a_dcd6_11ea_aff3_acde48001122row7_col9 {\n",
       "            background-color:  #7295f4;\n",
       "            color:  #000000;\n",
       "        }    #T_d640f67a_dcd6_11ea_aff3_acde48001122row7_col10 {\n",
       "            background-color:  #3b4cc0;\n",
       "            color:  #f1f1f1;\n",
       "        }    #T_d640f67a_dcd6_11ea_aff3_acde48001122row8_col0 {\n",
       "            background-color:  #a5c3fe;\n",
       "            color:  #000000;\n",
       "        }    #T_d640f67a_dcd6_11ea_aff3_acde48001122row8_col1 {\n",
       "            background-color:  #86a9fc;\n",
       "            color:  #000000;\n",
       "        }    #T_d640f67a_dcd6_11ea_aff3_acde48001122row8_col2 {\n",
       "            background-color:  #7597f6;\n",
       "            color:  #000000;\n",
       "        }    #T_d640f67a_dcd6_11ea_aff3_acde48001122row8_col3 {\n",
       "            background-color:  #6282ea;\n",
       "            color:  #000000;\n",
       "        }    #T_d640f67a_dcd6_11ea_aff3_acde48001122row8_col4 {\n",
       "            background-color:  #94b6ff;\n",
       "            color:  #000000;\n",
       "        }    #T_d640f67a_dcd6_11ea_aff3_acde48001122row8_col5 {\n",
       "            background-color:  #89acfd;\n",
       "            color:  #000000;\n",
       "        }    #T_d640f67a_dcd6_11ea_aff3_acde48001122row8_col6 {\n",
       "            background-color:  #536edd;\n",
       "            color:  #000000;\n",
       "        }    #T_d640f67a_dcd6_11ea_aff3_acde48001122row8_col7 {\n",
       "            background-color:  #5e7de7;\n",
       "            color:  #000000;\n",
       "        }    #T_d640f67a_dcd6_11ea_aff3_acde48001122row8_col8 {\n",
       "            background-color:  #b40426;\n",
       "            color:  #f1f1f1;\n",
       "        }    #T_d640f67a_dcd6_11ea_aff3_acde48001122row8_col9 {\n",
       "            background-color:  #4358cb;\n",
       "            color:  #f1f1f1;\n",
       "        }    #T_d640f67a_dcd6_11ea_aff3_acde48001122row8_col10 {\n",
       "            background-color:  #efcfbf;\n",
       "            color:  #000000;\n",
       "        }    #T_d640f67a_dcd6_11ea_aff3_acde48001122row9_col0 {\n",
       "            background-color:  #7295f4;\n",
       "            color:  #000000;\n",
       "        }    #T_d640f67a_dcd6_11ea_aff3_acde48001122row9_col1 {\n",
       "            background-color:  #5e7de7;\n",
       "            color:  #000000;\n",
       "        }    #T_d640f67a_dcd6_11ea_aff3_acde48001122row9_col2 {\n",
       "            background-color:  #5875e1;\n",
       "            color:  #000000;\n",
       "        }    #T_d640f67a_dcd6_11ea_aff3_acde48001122row9_col3 {\n",
       "            background-color:  #506bda;\n",
       "            color:  #000000;\n",
       "        }    #T_d640f67a_dcd6_11ea_aff3_acde48001122row9_col4 {\n",
       "            background-color:  #7ea1fa;\n",
       "            color:  #000000;\n",
       "        }    #T_d640f67a_dcd6_11ea_aff3_acde48001122row9_col5 {\n",
       "            background-color:  #7093f3;\n",
       "            color:  #000000;\n",
       "        }    #T_d640f67a_dcd6_11ea_aff3_acde48001122row9_col6 {\n",
       "            background-color:  #88abfd;\n",
       "            color:  #000000;\n",
       "        }    #T_d640f67a_dcd6_11ea_aff3_acde48001122row9_col7 {\n",
       "            background-color:  #a5c3fe;\n",
       "            color:  #000000;\n",
       "        }    #T_d640f67a_dcd6_11ea_aff3_acde48001122row9_col8 {\n",
       "            background-color:  #5875e1;\n",
       "            color:  #000000;\n",
       "        }    #T_d640f67a_dcd6_11ea_aff3_acde48001122row9_col9 {\n",
       "            background-color:  #b40426;\n",
       "            color:  #f1f1f1;\n",
       "        }    #T_d640f67a_dcd6_11ea_aff3_acde48001122row9_col10 {\n",
       "            background-color:  #5b7ae5;\n",
       "            color:  #000000;\n",
       "        }    #T_d640f67a_dcd6_11ea_aff3_acde48001122row10_col0 {\n",
       "            background-color:  #afcafc;\n",
       "            color:  #000000;\n",
       "        }    #T_d640f67a_dcd6_11ea_aff3_acde48001122row10_col1 {\n",
       "            background-color:  #8caffe;\n",
       "            color:  #000000;\n",
       "        }    #T_d640f67a_dcd6_11ea_aff3_acde48001122row10_col2 {\n",
       "            background-color:  #84a7fc;\n",
       "            color:  #000000;\n",
       "        }    #T_d640f67a_dcd6_11ea_aff3_acde48001122row10_col3 {\n",
       "            background-color:  #6e90f2;\n",
       "            color:  #000000;\n",
       "        }    #T_d640f67a_dcd6_11ea_aff3_acde48001122row10_col4 {\n",
       "            background-color:  #afcafc;\n",
       "            color:  #000000;\n",
       "        }    #T_d640f67a_dcd6_11ea_aff3_acde48001122row10_col5 {\n",
       "            background-color:  #a5c3fe;\n",
       "            color:  #000000;\n",
       "        }    #T_d640f67a_dcd6_11ea_aff3_acde48001122row10_col6 {\n",
       "            background-color:  #4b64d5;\n",
       "            color:  #f1f1f1;\n",
       "        }    #T_d640f67a_dcd6_11ea_aff3_acde48001122row10_col7 {\n",
       "            background-color:  #5470de;\n",
       "            color:  #000000;\n",
       "        }    #T_d640f67a_dcd6_11ea_aff3_acde48001122row10_col8 {\n",
       "            background-color:  #ecd3c5;\n",
       "            color:  #000000;\n",
       "        }    #T_d640f67a_dcd6_11ea_aff3_acde48001122row10_col9 {\n",
       "            background-color:  #3d50c3;\n",
       "            color:  #f1f1f1;\n",
       "        }    #T_d640f67a_dcd6_11ea_aff3_acde48001122row10_col10 {\n",
       "            background-color:  #b40426;\n",
       "            color:  #f1f1f1;\n",
       "        }</style><table id=\"T_d640f67a_dcd6_11ea_aff3_acde48001122\" ><thead>    <tr>        <th class=\"blank level0\" ></th>        <th class=\"col_heading level0 col0\" >Administrative</th>        <th class=\"col_heading level0 col1\" >Administrative_Duration</th>        <th class=\"col_heading level0 col2\" >Informational</th>        <th class=\"col_heading level0 col3\" >Informational_Duration</th>        <th class=\"col_heading level0 col4\" >ProductRelated</th>        <th class=\"col_heading level0 col5\" >ProductRelated_Duration</th>        <th class=\"col_heading level0 col6\" >BounceRates</th>        <th class=\"col_heading level0 col7\" >ExitRates</th>        <th class=\"col_heading level0 col8\" >PageValues</th>        <th class=\"col_heading level0 col9\" >SpecialDay</th>        <th class=\"col_heading level0 col10\" >Revenue</th>    </tr></thead><tbody>\n",
       "                <tr>\n",
       "                        <th id=\"T_d640f67a_dcd6_11ea_aff3_acde48001122level0_row0\" class=\"row_heading level0 row0\" >Administrative</th>\n",
       "                        <td id=\"T_d640f67a_dcd6_11ea_aff3_acde48001122row0_col0\" class=\"data row0 col0\" >1.000000</td>\n",
       "                        <td id=\"T_d640f67a_dcd6_11ea_aff3_acde48001122row0_col1\" class=\"data row0 col1\" >0.600000</td>\n",
       "                        <td id=\"T_d640f67a_dcd6_11ea_aff3_acde48001122row0_col2\" class=\"data row0 col2\" >0.380000</td>\n",
       "                        <td id=\"T_d640f67a_dcd6_11ea_aff3_acde48001122row0_col3\" class=\"data row0 col3\" >0.260000</td>\n",
       "                        <td id=\"T_d640f67a_dcd6_11ea_aff3_acde48001122row0_col4\" class=\"data row0 col4\" >0.430000</td>\n",
       "                        <td id=\"T_d640f67a_dcd6_11ea_aff3_acde48001122row0_col5\" class=\"data row0 col5\" >0.370000</td>\n",
       "                        <td id=\"T_d640f67a_dcd6_11ea_aff3_acde48001122row0_col6\" class=\"data row0 col6\" >-0.220000</td>\n",
       "                        <td id=\"T_d640f67a_dcd6_11ea_aff3_acde48001122row0_col7\" class=\"data row0 col7\" >-0.320000</td>\n",
       "                        <td id=\"T_d640f67a_dcd6_11ea_aff3_acde48001122row0_col8\" class=\"data row0 col8\" >0.100000</td>\n",
       "                        <td id=\"T_d640f67a_dcd6_11ea_aff3_acde48001122row0_col9\" class=\"data row0 col9\" >-0.090000</td>\n",
       "                        <td id=\"T_d640f67a_dcd6_11ea_aff3_acde48001122row0_col10\" class=\"data row0 col10\" >0.140000</td>\n",
       "            </tr>\n",
       "            <tr>\n",
       "                        <th id=\"T_d640f67a_dcd6_11ea_aff3_acde48001122level0_row1\" class=\"row_heading level0 row1\" >Administrative_Duration</th>\n",
       "                        <td id=\"T_d640f67a_dcd6_11ea_aff3_acde48001122row1_col0\" class=\"data row1 col0\" >0.600000</td>\n",
       "                        <td id=\"T_d640f67a_dcd6_11ea_aff3_acde48001122row1_col1\" class=\"data row1 col1\" >1.000000</td>\n",
       "                        <td id=\"T_d640f67a_dcd6_11ea_aff3_acde48001122row1_col2\" class=\"data row1 col2\" >0.300000</td>\n",
       "                        <td id=\"T_d640f67a_dcd6_11ea_aff3_acde48001122row1_col3\" class=\"data row1 col3\" >0.240000</td>\n",
       "                        <td id=\"T_d640f67a_dcd6_11ea_aff3_acde48001122row1_col4\" class=\"data row1 col4\" >0.290000</td>\n",
       "                        <td id=\"T_d640f67a_dcd6_11ea_aff3_acde48001122row1_col5\" class=\"data row1 col5\" >0.360000</td>\n",
       "                        <td id=\"T_d640f67a_dcd6_11ea_aff3_acde48001122row1_col6\" class=\"data row1 col6\" >-0.140000</td>\n",
       "                        <td id=\"T_d640f67a_dcd6_11ea_aff3_acde48001122row1_col7\" class=\"data row1 col7\" >-0.210000</td>\n",
       "                        <td id=\"T_d640f67a_dcd6_11ea_aff3_acde48001122row1_col8\" class=\"data row1 col8\" >0.070000</td>\n",
       "                        <td id=\"T_d640f67a_dcd6_11ea_aff3_acde48001122row1_col9\" class=\"data row1 col9\" >-0.070000</td>\n",
       "                        <td id=\"T_d640f67a_dcd6_11ea_aff3_acde48001122row1_col10\" class=\"data row1 col10\" >0.090000</td>\n",
       "            </tr>\n",
       "            <tr>\n",
       "                        <th id=\"T_d640f67a_dcd6_11ea_aff3_acde48001122level0_row2\" class=\"row_heading level0 row2\" >Informational</th>\n",
       "                        <td id=\"T_d640f67a_dcd6_11ea_aff3_acde48001122row2_col0\" class=\"data row2 col0\" >0.380000</td>\n",
       "                        <td id=\"T_d640f67a_dcd6_11ea_aff3_acde48001122row2_col1\" class=\"data row2 col1\" >0.300000</td>\n",
       "                        <td id=\"T_d640f67a_dcd6_11ea_aff3_acde48001122row2_col2\" class=\"data row2 col2\" >1.000000</td>\n",
       "                        <td id=\"T_d640f67a_dcd6_11ea_aff3_acde48001122row2_col3\" class=\"data row2 col3\" >0.620000</td>\n",
       "                        <td id=\"T_d640f67a_dcd6_11ea_aff3_acde48001122row2_col4\" class=\"data row2 col4\" >0.370000</td>\n",
       "                        <td id=\"T_d640f67a_dcd6_11ea_aff3_acde48001122row2_col5\" class=\"data row2 col5\" >0.390000</td>\n",
       "                        <td id=\"T_d640f67a_dcd6_11ea_aff3_acde48001122row2_col6\" class=\"data row2 col6\" >-0.120000</td>\n",
       "                        <td id=\"T_d640f67a_dcd6_11ea_aff3_acde48001122row2_col7\" class=\"data row2 col7\" >-0.160000</td>\n",
       "                        <td id=\"T_d640f67a_dcd6_11ea_aff3_acde48001122row2_col8\" class=\"data row2 col8\" >0.050000</td>\n",
       "                        <td id=\"T_d640f67a_dcd6_11ea_aff3_acde48001122row2_col9\" class=\"data row2 col9\" >-0.050000</td>\n",
       "                        <td id=\"T_d640f67a_dcd6_11ea_aff3_acde48001122row2_col10\" class=\"data row2 col10\" >0.100000</td>\n",
       "            </tr>\n",
       "            <tr>\n",
       "                        <th id=\"T_d640f67a_dcd6_11ea_aff3_acde48001122level0_row3\" class=\"row_heading level0 row3\" >Informational_Duration</th>\n",
       "                        <td id=\"T_d640f67a_dcd6_11ea_aff3_acde48001122row3_col0\" class=\"data row3 col0\" >0.260000</td>\n",
       "                        <td id=\"T_d640f67a_dcd6_11ea_aff3_acde48001122row3_col1\" class=\"data row3 col1\" >0.240000</td>\n",
       "                        <td id=\"T_d640f67a_dcd6_11ea_aff3_acde48001122row3_col2\" class=\"data row3 col2\" >0.620000</td>\n",
       "                        <td id=\"T_d640f67a_dcd6_11ea_aff3_acde48001122row3_col3\" class=\"data row3 col3\" >1.000000</td>\n",
       "                        <td id=\"T_d640f67a_dcd6_11ea_aff3_acde48001122row3_col4\" class=\"data row3 col4\" >0.280000</td>\n",
       "                        <td id=\"T_d640f67a_dcd6_11ea_aff3_acde48001122row3_col5\" class=\"data row3 col5\" >0.350000</td>\n",
       "                        <td id=\"T_d640f67a_dcd6_11ea_aff3_acde48001122row3_col6\" class=\"data row3 col6\" >-0.070000</td>\n",
       "                        <td id=\"T_d640f67a_dcd6_11ea_aff3_acde48001122row3_col7\" class=\"data row3 col7\" >-0.110000</td>\n",
       "                        <td id=\"T_d640f67a_dcd6_11ea_aff3_acde48001122row3_col8\" class=\"data row3 col8\" >0.030000</td>\n",
       "                        <td id=\"T_d640f67a_dcd6_11ea_aff3_acde48001122row3_col9\" class=\"data row3 col9\" >-0.030000</td>\n",
       "                        <td id=\"T_d640f67a_dcd6_11ea_aff3_acde48001122row3_col10\" class=\"data row3 col10\" >0.070000</td>\n",
       "            </tr>\n",
       "            <tr>\n",
       "                        <th id=\"T_d640f67a_dcd6_11ea_aff3_acde48001122level0_row4\" class=\"row_heading level0 row4\" >ProductRelated</th>\n",
       "                        <td id=\"T_d640f67a_dcd6_11ea_aff3_acde48001122row4_col0\" class=\"data row4 col0\" >0.430000</td>\n",
       "                        <td id=\"T_d640f67a_dcd6_11ea_aff3_acde48001122row4_col1\" class=\"data row4 col1\" >0.290000</td>\n",
       "                        <td id=\"T_d640f67a_dcd6_11ea_aff3_acde48001122row4_col2\" class=\"data row4 col2\" >0.370000</td>\n",
       "                        <td id=\"T_d640f67a_dcd6_11ea_aff3_acde48001122row4_col3\" class=\"data row4 col3\" >0.280000</td>\n",
       "                        <td id=\"T_d640f67a_dcd6_11ea_aff3_acde48001122row4_col4\" class=\"data row4 col4\" >1.000000</td>\n",
       "                        <td id=\"T_d640f67a_dcd6_11ea_aff3_acde48001122row4_col5\" class=\"data row4 col5\" >0.860000</td>\n",
       "                        <td id=\"T_d640f67a_dcd6_11ea_aff3_acde48001122row4_col6\" class=\"data row4 col6\" >-0.200000</td>\n",
       "                        <td id=\"T_d640f67a_dcd6_11ea_aff3_acde48001122row4_col7\" class=\"data row4 col7\" >-0.290000</td>\n",
       "                        <td id=\"T_d640f67a_dcd6_11ea_aff3_acde48001122row4_col8\" class=\"data row4 col8\" >0.060000</td>\n",
       "                        <td id=\"T_d640f67a_dcd6_11ea_aff3_acde48001122row4_col9\" class=\"data row4 col9\" >-0.020000</td>\n",
       "                        <td id=\"T_d640f67a_dcd6_11ea_aff3_acde48001122row4_col10\" class=\"data row4 col10\" >0.160000</td>\n",
       "            </tr>\n",
       "            <tr>\n",
       "                        <th id=\"T_d640f67a_dcd6_11ea_aff3_acde48001122level0_row5\" class=\"row_heading level0 row5\" >ProductRelated_Duration</th>\n",
       "                        <td id=\"T_d640f67a_dcd6_11ea_aff3_acde48001122row5_col0\" class=\"data row5 col0\" >0.370000</td>\n",
       "                        <td id=\"T_d640f67a_dcd6_11ea_aff3_acde48001122row5_col1\" class=\"data row5 col1\" >0.360000</td>\n",
       "                        <td id=\"T_d640f67a_dcd6_11ea_aff3_acde48001122row5_col2\" class=\"data row5 col2\" >0.390000</td>\n",
       "                        <td id=\"T_d640f67a_dcd6_11ea_aff3_acde48001122row5_col3\" class=\"data row5 col3\" >0.350000</td>\n",
       "                        <td id=\"T_d640f67a_dcd6_11ea_aff3_acde48001122row5_col4\" class=\"data row5 col4\" >0.860000</td>\n",
       "                        <td id=\"T_d640f67a_dcd6_11ea_aff3_acde48001122row5_col5\" class=\"data row5 col5\" >1.000000</td>\n",
       "                        <td id=\"T_d640f67a_dcd6_11ea_aff3_acde48001122row5_col6\" class=\"data row5 col6\" >-0.180000</td>\n",
       "                        <td id=\"T_d640f67a_dcd6_11ea_aff3_acde48001122row5_col7\" class=\"data row5 col7\" >-0.250000</td>\n",
       "                        <td id=\"T_d640f67a_dcd6_11ea_aff3_acde48001122row5_col8\" class=\"data row5 col8\" >0.050000</td>\n",
       "                        <td id=\"T_d640f67a_dcd6_11ea_aff3_acde48001122row5_col9\" class=\"data row5 col9\" >-0.040000</td>\n",
       "                        <td id=\"T_d640f67a_dcd6_11ea_aff3_acde48001122row5_col10\" class=\"data row5 col10\" >0.150000</td>\n",
       "            </tr>\n",
       "            <tr>\n",
       "                        <th id=\"T_d640f67a_dcd6_11ea_aff3_acde48001122level0_row6\" class=\"row_heading level0 row6\" >BounceRates</th>\n",
       "                        <td id=\"T_d640f67a_dcd6_11ea_aff3_acde48001122row6_col0\" class=\"data row6 col0\" >-0.220000</td>\n",
       "                        <td id=\"T_d640f67a_dcd6_11ea_aff3_acde48001122row6_col1\" class=\"data row6 col1\" >-0.140000</td>\n",
       "                        <td id=\"T_d640f67a_dcd6_11ea_aff3_acde48001122row6_col2\" class=\"data row6 col2\" >-0.120000</td>\n",
       "                        <td id=\"T_d640f67a_dcd6_11ea_aff3_acde48001122row6_col3\" class=\"data row6 col3\" >-0.070000</td>\n",
       "                        <td id=\"T_d640f67a_dcd6_11ea_aff3_acde48001122row6_col4\" class=\"data row6 col4\" >-0.200000</td>\n",
       "                        <td id=\"T_d640f67a_dcd6_11ea_aff3_acde48001122row6_col5\" class=\"data row6 col5\" >-0.180000</td>\n",
       "                        <td id=\"T_d640f67a_dcd6_11ea_aff3_acde48001122row6_col6\" class=\"data row6 col6\" >1.000000</td>\n",
       "                        <td id=\"T_d640f67a_dcd6_11ea_aff3_acde48001122row6_col7\" class=\"data row6 col7\" >0.910000</td>\n",
       "                        <td id=\"T_d640f67a_dcd6_11ea_aff3_acde48001122row6_col8\" class=\"data row6 col8\" >-0.120000</td>\n",
       "                        <td id=\"T_d640f67a_dcd6_11ea_aff3_acde48001122row6_col9\" class=\"data row6 col9\" >0.070000</td>\n",
       "                        <td id=\"T_d640f67a_dcd6_11ea_aff3_acde48001122row6_col10\" class=\"data row6 col10\" >-0.150000</td>\n",
       "            </tr>\n",
       "            <tr>\n",
       "                        <th id=\"T_d640f67a_dcd6_11ea_aff3_acde48001122level0_row7\" class=\"row_heading level0 row7\" >ExitRates</th>\n",
       "                        <td id=\"T_d640f67a_dcd6_11ea_aff3_acde48001122row7_col0\" class=\"data row7 col0\" >-0.320000</td>\n",
       "                        <td id=\"T_d640f67a_dcd6_11ea_aff3_acde48001122row7_col1\" class=\"data row7 col1\" >-0.210000</td>\n",
       "                        <td id=\"T_d640f67a_dcd6_11ea_aff3_acde48001122row7_col2\" class=\"data row7 col2\" >-0.160000</td>\n",
       "                        <td id=\"T_d640f67a_dcd6_11ea_aff3_acde48001122row7_col3\" class=\"data row7 col3\" >-0.110000</td>\n",
       "                        <td id=\"T_d640f67a_dcd6_11ea_aff3_acde48001122row7_col4\" class=\"data row7 col4\" >-0.290000</td>\n",
       "                        <td id=\"T_d640f67a_dcd6_11ea_aff3_acde48001122row7_col5\" class=\"data row7 col5\" >-0.250000</td>\n",
       "                        <td id=\"T_d640f67a_dcd6_11ea_aff3_acde48001122row7_col6\" class=\"data row7 col6\" >0.910000</td>\n",
       "                        <td id=\"T_d640f67a_dcd6_11ea_aff3_acde48001122row7_col7\" class=\"data row7 col7\" >1.000000</td>\n",
       "                        <td id=\"T_d640f67a_dcd6_11ea_aff3_acde48001122row7_col8\" class=\"data row7 col8\" >-0.170000</td>\n",
       "                        <td id=\"T_d640f67a_dcd6_11ea_aff3_acde48001122row7_col9\" class=\"data row7 col9\" >0.100000</td>\n",
       "                        <td id=\"T_d640f67a_dcd6_11ea_aff3_acde48001122row7_col10\" class=\"data row7 col10\" >-0.210000</td>\n",
       "            </tr>\n",
       "            <tr>\n",
       "                        <th id=\"T_d640f67a_dcd6_11ea_aff3_acde48001122level0_row8\" class=\"row_heading level0 row8\" >PageValues</th>\n",
       "                        <td id=\"T_d640f67a_dcd6_11ea_aff3_acde48001122row8_col0\" class=\"data row8 col0\" >0.100000</td>\n",
       "                        <td id=\"T_d640f67a_dcd6_11ea_aff3_acde48001122row8_col1\" class=\"data row8 col1\" >0.070000</td>\n",
       "                        <td id=\"T_d640f67a_dcd6_11ea_aff3_acde48001122row8_col2\" class=\"data row8 col2\" >0.050000</td>\n",
       "                        <td id=\"T_d640f67a_dcd6_11ea_aff3_acde48001122row8_col3\" class=\"data row8 col3\" >0.030000</td>\n",
       "                        <td id=\"T_d640f67a_dcd6_11ea_aff3_acde48001122row8_col4\" class=\"data row8 col4\" >0.060000</td>\n",
       "                        <td id=\"T_d640f67a_dcd6_11ea_aff3_acde48001122row8_col5\" class=\"data row8 col5\" >0.050000</td>\n",
       "                        <td id=\"T_d640f67a_dcd6_11ea_aff3_acde48001122row8_col6\" class=\"data row8 col6\" >-0.120000</td>\n",
       "                        <td id=\"T_d640f67a_dcd6_11ea_aff3_acde48001122row8_col7\" class=\"data row8 col7\" >-0.170000</td>\n",
       "                        <td id=\"T_d640f67a_dcd6_11ea_aff3_acde48001122row8_col8\" class=\"data row8 col8\" >1.000000</td>\n",
       "                        <td id=\"T_d640f67a_dcd6_11ea_aff3_acde48001122row8_col9\" class=\"data row8 col9\" >-0.060000</td>\n",
       "                        <td id=\"T_d640f67a_dcd6_11ea_aff3_acde48001122row8_col10\" class=\"data row8 col10\" >0.490000</td>\n",
       "            </tr>\n",
       "            <tr>\n",
       "                        <th id=\"T_d640f67a_dcd6_11ea_aff3_acde48001122level0_row9\" class=\"row_heading level0 row9\" >SpecialDay</th>\n",
       "                        <td id=\"T_d640f67a_dcd6_11ea_aff3_acde48001122row9_col0\" class=\"data row9 col0\" >-0.090000</td>\n",
       "                        <td id=\"T_d640f67a_dcd6_11ea_aff3_acde48001122row9_col1\" class=\"data row9 col1\" >-0.070000</td>\n",
       "                        <td id=\"T_d640f67a_dcd6_11ea_aff3_acde48001122row9_col2\" class=\"data row9 col2\" >-0.050000</td>\n",
       "                        <td id=\"T_d640f67a_dcd6_11ea_aff3_acde48001122row9_col3\" class=\"data row9 col3\" >-0.030000</td>\n",
       "                        <td id=\"T_d640f67a_dcd6_11ea_aff3_acde48001122row9_col4\" class=\"data row9 col4\" >-0.020000</td>\n",
       "                        <td id=\"T_d640f67a_dcd6_11ea_aff3_acde48001122row9_col5\" class=\"data row9 col5\" >-0.040000</td>\n",
       "                        <td id=\"T_d640f67a_dcd6_11ea_aff3_acde48001122row9_col6\" class=\"data row9 col6\" >0.070000</td>\n",
       "                        <td id=\"T_d640f67a_dcd6_11ea_aff3_acde48001122row9_col7\" class=\"data row9 col7\" >0.100000</td>\n",
       "                        <td id=\"T_d640f67a_dcd6_11ea_aff3_acde48001122row9_col8\" class=\"data row9 col8\" >-0.060000</td>\n",
       "                        <td id=\"T_d640f67a_dcd6_11ea_aff3_acde48001122row9_col9\" class=\"data row9 col9\" >1.000000</td>\n",
       "                        <td id=\"T_d640f67a_dcd6_11ea_aff3_acde48001122row9_col10\" class=\"data row9 col10\" >-0.080000</td>\n",
       "            </tr>\n",
       "            <tr>\n",
       "                        <th id=\"T_d640f67a_dcd6_11ea_aff3_acde48001122level0_row10\" class=\"row_heading level0 row10\" >Revenue</th>\n",
       "                        <td id=\"T_d640f67a_dcd6_11ea_aff3_acde48001122row10_col0\" class=\"data row10 col0\" >0.140000</td>\n",
       "                        <td id=\"T_d640f67a_dcd6_11ea_aff3_acde48001122row10_col1\" class=\"data row10 col1\" >0.090000</td>\n",
       "                        <td id=\"T_d640f67a_dcd6_11ea_aff3_acde48001122row10_col2\" class=\"data row10 col2\" >0.100000</td>\n",
       "                        <td id=\"T_d640f67a_dcd6_11ea_aff3_acde48001122row10_col3\" class=\"data row10 col3\" >0.070000</td>\n",
       "                        <td id=\"T_d640f67a_dcd6_11ea_aff3_acde48001122row10_col4\" class=\"data row10 col4\" >0.160000</td>\n",
       "                        <td id=\"T_d640f67a_dcd6_11ea_aff3_acde48001122row10_col5\" class=\"data row10 col5\" >0.150000</td>\n",
       "                        <td id=\"T_d640f67a_dcd6_11ea_aff3_acde48001122row10_col6\" class=\"data row10 col6\" >-0.150000</td>\n",
       "                        <td id=\"T_d640f67a_dcd6_11ea_aff3_acde48001122row10_col7\" class=\"data row10 col7\" >-0.210000</td>\n",
       "                        <td id=\"T_d640f67a_dcd6_11ea_aff3_acde48001122row10_col8\" class=\"data row10 col8\" >0.490000</td>\n",
       "                        <td id=\"T_d640f67a_dcd6_11ea_aff3_acde48001122row10_col9\" class=\"data row10 col9\" >-0.080000</td>\n",
       "                        <td id=\"T_d640f67a_dcd6_11ea_aff3_acde48001122row10_col10\" class=\"data row10 col10\" >1.000000</td>\n",
       "            </tr>\n",
       "    </tbody></table>"
      ],
      "text/plain": [
       "<pandas.io.formats.style.Styler at 0x1194f0a20>"
      ]
     },
     "execution_count": 27,
     "metadata": {},
     "output_type": "execute_result"
    }
   ],
   "source": [
    "numeric_df_corr = numeric_df.corr()\n",
    "numeric_df_corr\n",
    "highlight_table = numeric_df_corr.round(2).style.background_gradient(cmap='coolwarm')\n",
    "highlight_table"
   ]
  },
  {
   "cell_type": "markdown",
   "metadata": {},
   "source": [
    "Here we can infer that ExitRates has strong positive correlation with BounceRates at 0.91.\n",
    "Unsurprisingly, the 3 page types and their duration have positive strong correlation. \n",
    "As expected, page value is highly correlated with revenue output. \n",
    "<font color=green>Another method of feature selection is using SelectKBest from the scikit learn library. It selects the features according to the k best scores. The feature with the highest score ranks as the most significant feature."
   ]
  },
  {
   "cell_type": "code",
   "execution_count": 28,
   "metadata": {
    "ExecuteTime": {
     "end_time": "2020-08-06T09:43:45.116209Z",
     "start_time": "2020-08-06T09:43:45.046896Z"
    }
   },
   "outputs": [
    {
     "name": "stdout",
     "output_type": "stream",
     "text": [
      "                     Specs          Score\n",
      "5  ProductRelated_Duration  877404.339415\n",
      "8               PageValues  175126.808512\n",
      "1  Administrative_Duration   41754.836841\n",
      "3   Informational_Duration   35059.775770\n",
      "4           ProductRelated   19317.285376\n",
      "0           Administrative    1133.965531\n",
      "2            Informational     357.981605\n",
      "9               SpecialDay      53.797094\n",
      "6              BounceRates      29.654336\n",
      "7                ExitRates      28.985072\n"
     ]
    }
   ],
   "source": [
    "from sklearn.feature_selection import SelectKBest\n",
    "from sklearn.feature_selection import chi2\n",
    "data = numeric_df\n",
    "X = numeric_df.iloc[:, list(range(10))]  #independent columns\n",
    "y = data.iloc[:,-1]    #target column i.e price range\n",
    "#apply SelectKBest class to extract top 10 best features\n",
    "bestfeatures = SelectKBest(score_func=chi2, k=10)\n",
    "fit = bestfeatures.fit(X,y)\n",
    "dfscores = pd.DataFrame(fit.scores_)\n",
    "dfcolumns = pd.DataFrame(X.columns)\n",
    "#concat two dataframes for better visualization \n",
    "featureScores = pd.concat([dfcolumns,dfscores],axis=1)\n",
    "featureScores.columns = ['Specs','Score']  #naming the dataframe columns\n",
    "print(featureScores.nlargest(10,'Score'))  #print 10 best features"
   ]
  },
  {
   "cell_type": "markdown",
   "metadata": {},
   "source": [
    "<font color=blue> The above shows that the length of a session is key to generating revenue, seeing how the 3 page durations are highly ranked, with ProductRelated_Duration ranked at the top."
   ]
  },
  {
   "cell_type": "markdown",
   "metadata": {},
   "source": [
    "<font color=blue>Most columns appear to be right skewed."
   ]
  },
  {
   "cell_type": "code",
   "execution_count": null,
   "metadata": {},
   "outputs": [],
   "source": []
  },
  {
   "cell_type": "code",
   "execution_count": null,
   "metadata": {},
   "outputs": [],
   "source": []
  },
  {
   "cell_type": "markdown",
   "metadata": {},
   "source": [
    "### Descriptive Statistics"
   ]
  },
  {
   "cell_type": "code",
   "execution_count": 31,
   "metadata": {
    "ExecuteTime": {
     "end_time": "2020-08-06T09:36:53.183239Z",
     "start_time": "2020-08-06T09:36:53.104717Z"
    }
   },
   "outputs": [
    {
     "data": {
      "text/html": [
       "<div>\n",
       "<style scoped>\n",
       "    .dataframe tbody tr th:only-of-type {\n",
       "        vertical-align: middle;\n",
       "    }\n",
       "\n",
       "    .dataframe tbody tr th {\n",
       "        vertical-align: top;\n",
       "    }\n",
       "\n",
       "    .dataframe thead th {\n",
       "        text-align: right;\n",
       "    }\n",
       "</style>\n",
       "<table border=\"1\" class=\"dataframe\">\n",
       "  <thead>\n",
       "    <tr style=\"text-align: right;\">\n",
       "      <th></th>\n",
       "      <th>count</th>\n",
       "      <th>mean</th>\n",
       "      <th>std</th>\n",
       "      <th>min</th>\n",
       "      <th>25%</th>\n",
       "      <th>50%</th>\n",
       "      <th>75%</th>\n",
       "      <th>max</th>\n",
       "    </tr>\n",
       "  </thead>\n",
       "  <tbody>\n",
       "    <tr>\n",
       "      <th>Administrative</th>\n",
       "      <td>12330.0</td>\n",
       "      <td>2.315166</td>\n",
       "      <td>3.321784</td>\n",
       "      <td>0.0</td>\n",
       "      <td>0.000000</td>\n",
       "      <td>1.000000</td>\n",
       "      <td>4.000000</td>\n",
       "      <td>27.000000</td>\n",
       "    </tr>\n",
       "    <tr>\n",
       "      <th>Administrative_Duration</th>\n",
       "      <td>12330.0</td>\n",
       "      <td>80.818611</td>\n",
       "      <td>176.779107</td>\n",
       "      <td>0.0</td>\n",
       "      <td>0.000000</td>\n",
       "      <td>7.500000</td>\n",
       "      <td>93.256250</td>\n",
       "      <td>3398.750000</td>\n",
       "    </tr>\n",
       "    <tr>\n",
       "      <th>Informational</th>\n",
       "      <td>12330.0</td>\n",
       "      <td>0.503569</td>\n",
       "      <td>1.270156</td>\n",
       "      <td>0.0</td>\n",
       "      <td>0.000000</td>\n",
       "      <td>0.000000</td>\n",
       "      <td>0.000000</td>\n",
       "      <td>24.000000</td>\n",
       "    </tr>\n",
       "    <tr>\n",
       "      <th>Informational_Duration</th>\n",
       "      <td>12330.0</td>\n",
       "      <td>34.472398</td>\n",
       "      <td>140.749294</td>\n",
       "      <td>0.0</td>\n",
       "      <td>0.000000</td>\n",
       "      <td>0.000000</td>\n",
       "      <td>0.000000</td>\n",
       "      <td>2549.375000</td>\n",
       "    </tr>\n",
       "    <tr>\n",
       "      <th>ProductRelated</th>\n",
       "      <td>12330.0</td>\n",
       "      <td>31.731468</td>\n",
       "      <td>44.475503</td>\n",
       "      <td>0.0</td>\n",
       "      <td>7.000000</td>\n",
       "      <td>18.000000</td>\n",
       "      <td>38.000000</td>\n",
       "      <td>705.000000</td>\n",
       "    </tr>\n",
       "    <tr>\n",
       "      <th>ProductRelated_Duration</th>\n",
       "      <td>12330.0</td>\n",
       "      <td>1194.746220</td>\n",
       "      <td>1913.669288</td>\n",
       "      <td>0.0</td>\n",
       "      <td>184.137500</td>\n",
       "      <td>598.936905</td>\n",
       "      <td>1464.157213</td>\n",
       "      <td>63973.522230</td>\n",
       "    </tr>\n",
       "    <tr>\n",
       "      <th>BounceRates</th>\n",
       "      <td>12330.0</td>\n",
       "      <td>0.022191</td>\n",
       "      <td>0.048488</td>\n",
       "      <td>0.0</td>\n",
       "      <td>0.000000</td>\n",
       "      <td>0.003112</td>\n",
       "      <td>0.016813</td>\n",
       "      <td>0.200000</td>\n",
       "    </tr>\n",
       "    <tr>\n",
       "      <th>ExitRates</th>\n",
       "      <td>12330.0</td>\n",
       "      <td>0.043073</td>\n",
       "      <td>0.048597</td>\n",
       "      <td>0.0</td>\n",
       "      <td>0.014286</td>\n",
       "      <td>0.025156</td>\n",
       "      <td>0.050000</td>\n",
       "      <td>0.200000</td>\n",
       "    </tr>\n",
       "    <tr>\n",
       "      <th>PageValues</th>\n",
       "      <td>12330.0</td>\n",
       "      <td>5.889258</td>\n",
       "      <td>18.568437</td>\n",
       "      <td>0.0</td>\n",
       "      <td>0.000000</td>\n",
       "      <td>0.000000</td>\n",
       "      <td>0.000000</td>\n",
       "      <td>361.763742</td>\n",
       "    </tr>\n",
       "    <tr>\n",
       "      <th>SpecialDay</th>\n",
       "      <td>12330.0</td>\n",
       "      <td>0.061427</td>\n",
       "      <td>0.198917</td>\n",
       "      <td>0.0</td>\n",
       "      <td>0.000000</td>\n",
       "      <td>0.000000</td>\n",
       "      <td>0.000000</td>\n",
       "      <td>1.000000</td>\n",
       "    </tr>\n",
       "    <tr>\n",
       "      <th>Month</th>\n",
       "      <td>12330.0</td>\n",
       "      <td>7.651987</td>\n",
       "      <td>3.392841</td>\n",
       "      <td>2.0</td>\n",
       "      <td>5.000000</td>\n",
       "      <td>7.000000</td>\n",
       "      <td>11.000000</td>\n",
       "      <td>12.000000</td>\n",
       "    </tr>\n",
       "    <tr>\n",
       "      <th>OperatingSystems</th>\n",
       "      <td>12330.0</td>\n",
       "      <td>2.124006</td>\n",
       "      <td>0.911325</td>\n",
       "      <td>1.0</td>\n",
       "      <td>2.000000</td>\n",
       "      <td>2.000000</td>\n",
       "      <td>3.000000</td>\n",
       "      <td>8.000000</td>\n",
       "    </tr>\n",
       "    <tr>\n",
       "      <th>Browser</th>\n",
       "      <td>12330.0</td>\n",
       "      <td>2.357097</td>\n",
       "      <td>1.717277</td>\n",
       "      <td>1.0</td>\n",
       "      <td>2.000000</td>\n",
       "      <td>2.000000</td>\n",
       "      <td>2.000000</td>\n",
       "      <td>13.000000</td>\n",
       "    </tr>\n",
       "    <tr>\n",
       "      <th>Region</th>\n",
       "      <td>12330.0</td>\n",
       "      <td>3.147364</td>\n",
       "      <td>2.401591</td>\n",
       "      <td>1.0</td>\n",
       "      <td>1.000000</td>\n",
       "      <td>3.000000</td>\n",
       "      <td>4.000000</td>\n",
       "      <td>9.000000</td>\n",
       "    </tr>\n",
       "    <tr>\n",
       "      <th>TrafficType</th>\n",
       "      <td>12330.0</td>\n",
       "      <td>4.069586</td>\n",
       "      <td>4.025169</td>\n",
       "      <td>1.0</td>\n",
       "      <td>2.000000</td>\n",
       "      <td>2.000000</td>\n",
       "      <td>4.000000</td>\n",
       "      <td>20.000000</td>\n",
       "    </tr>\n",
       "    <tr>\n",
       "      <th>Weekend</th>\n",
       "      <td>12330.0</td>\n",
       "      <td>0.232603</td>\n",
       "      <td>0.422509</td>\n",
       "      <td>0.0</td>\n",
       "      <td>0.000000</td>\n",
       "      <td>0.000000</td>\n",
       "      <td>0.000000</td>\n",
       "      <td>1.000000</td>\n",
       "    </tr>\n",
       "    <tr>\n",
       "      <th>Revenue</th>\n",
       "      <td>12330.0</td>\n",
       "      <td>0.154745</td>\n",
       "      <td>0.361676</td>\n",
       "      <td>0.0</td>\n",
       "      <td>0.000000</td>\n",
       "      <td>0.000000</td>\n",
       "      <td>0.000000</td>\n",
       "      <td>1.000000</td>\n",
       "    </tr>\n",
       "    <tr>\n",
       "      <th>Other</th>\n",
       "      <td>12330.0</td>\n",
       "      <td>0.006894</td>\n",
       "      <td>0.082745</td>\n",
       "      <td>0.0</td>\n",
       "      <td>0.000000</td>\n",
       "      <td>0.000000</td>\n",
       "      <td>0.000000</td>\n",
       "      <td>1.000000</td>\n",
       "    </tr>\n",
       "    <tr>\n",
       "      <th>Returning_Visitor</th>\n",
       "      <td>12330.0</td>\n",
       "      <td>0.855718</td>\n",
       "      <td>0.351390</td>\n",
       "      <td>0.0</td>\n",
       "      <td>1.000000</td>\n",
       "      <td>1.000000</td>\n",
       "      <td>1.000000</td>\n",
       "      <td>1.000000</td>\n",
       "    </tr>\n",
       "  </tbody>\n",
       "</table>\n",
       "</div>"
      ],
      "text/plain": [
       "                           count         mean          std  min         25%  \\\n",
       "Administrative           12330.0     2.315166     3.321784  0.0    0.000000   \n",
       "Administrative_Duration  12330.0    80.818611   176.779107  0.0    0.000000   \n",
       "Informational            12330.0     0.503569     1.270156  0.0    0.000000   \n",
       "Informational_Duration   12330.0    34.472398   140.749294  0.0    0.000000   \n",
       "ProductRelated           12330.0    31.731468    44.475503  0.0    7.000000   \n",
       "ProductRelated_Duration  12330.0  1194.746220  1913.669288  0.0  184.137500   \n",
       "BounceRates              12330.0     0.022191     0.048488  0.0    0.000000   \n",
       "ExitRates                12330.0     0.043073     0.048597  0.0    0.014286   \n",
       "PageValues               12330.0     5.889258    18.568437  0.0    0.000000   \n",
       "SpecialDay               12330.0     0.061427     0.198917  0.0    0.000000   \n",
       "Month                    12330.0     7.651987     3.392841  2.0    5.000000   \n",
       "OperatingSystems         12330.0     2.124006     0.911325  1.0    2.000000   \n",
       "Browser                  12330.0     2.357097     1.717277  1.0    2.000000   \n",
       "Region                   12330.0     3.147364     2.401591  1.0    1.000000   \n",
       "TrafficType              12330.0     4.069586     4.025169  1.0    2.000000   \n",
       "Weekend                  12330.0     0.232603     0.422509  0.0    0.000000   \n",
       "Revenue                  12330.0     0.154745     0.361676  0.0    0.000000   \n",
       "Other                    12330.0     0.006894     0.082745  0.0    0.000000   \n",
       "Returning_Visitor        12330.0     0.855718     0.351390  0.0    1.000000   \n",
       "\n",
       "                                50%          75%           max  \n",
       "Administrative             1.000000     4.000000     27.000000  \n",
       "Administrative_Duration    7.500000    93.256250   3398.750000  \n",
       "Informational              0.000000     0.000000     24.000000  \n",
       "Informational_Duration     0.000000     0.000000   2549.375000  \n",
       "ProductRelated            18.000000    38.000000    705.000000  \n",
       "ProductRelated_Duration  598.936905  1464.157213  63973.522230  \n",
       "BounceRates                0.003112     0.016813      0.200000  \n",
       "ExitRates                  0.025156     0.050000      0.200000  \n",
       "PageValues                 0.000000     0.000000    361.763742  \n",
       "SpecialDay                 0.000000     0.000000      1.000000  \n",
       "Month                      7.000000    11.000000     12.000000  \n",
       "OperatingSystems           2.000000     3.000000      8.000000  \n",
       "Browser                    2.000000     2.000000     13.000000  \n",
       "Region                     3.000000     4.000000      9.000000  \n",
       "TrafficType                2.000000     4.000000     20.000000  \n",
       "Weekend                    0.000000     0.000000      1.000000  \n",
       "Revenue                    0.000000     0.000000      1.000000  \n",
       "Other                      0.000000     0.000000      1.000000  \n",
       "Returning_Visitor          1.000000     1.000000      1.000000  "
      ]
     },
     "execution_count": 31,
     "metadata": {},
     "output_type": "execute_result"
    }
   ],
   "source": [
    "df.describe().T"
   ]
  },
  {
   "cell_type": "markdown",
   "metadata": {},
   "source": [
    "### Data Visualization"
   ]
  },
  {
   "cell_type": "code",
   "execution_count": 32,
   "metadata": {
    "ExecuteTime": {
     "end_time": "2020-08-02T17:54:34.080758Z",
     "start_time": "2020-08-02T17:54:33.848958Z"
    }
   },
   "outputs": [
    {
     "data": {
      "text/plain": [
       "<matplotlib.axes._subplots.AxesSubplot at 0x11986df60>"
      ]
     },
     "execution_count": 32,
     "metadata": {},
     "output_type": "execute_result"
    },
    {
     "data": {
      "image/png": "[encoded data removed]",
      "text/plain": [
       "<Figure size 864x576 with 1 Axes>"
      ]
     },
     "metadata": {},
     "output_type": "display_data"
    }
   ],
   "source": [
    "sns.countplot(df['Revenue'], palette='Set3')"
   ]
  },
  {
   "cell_type": "code",
   "execution_count": 33,
   "metadata": {
    "ExecuteTime": {
     "end_time": "2020-08-02T17:55:09.164973Z",
     "start_time": "2020-08-02T17:55:09.152619Z"
    }
   },
   "outputs": [
    {
     "name": "stdout",
     "output_type": "stream",
     "text": [
      "There are 15.474452554744525% target values with 1\n"
     ]
    }
   ],
   "source": [
    "print(\"There are {}% target values with 1\".format(100 * df[\"Revenue\"].value_counts()[1]/df.shape[0]))"
   ]
  },
  {
   "cell_type": "code",
   "execution_count": 34,
   "metadata": {
    "ExecuteTime": {
     "end_time": "2020-08-02T17:55:57.356845Z",
     "start_time": "2020-08-02T17:55:57.346496Z"
    }
   },
   "outputs": [],
   "source": [
    "def plot_feature_distribution(df1, df2, label1, label2, features):\n",
    "    i = 0\n",
    "    sns.set_style('whitegrid')\n",
    "    plt.figure()\n",
    "    fig, ax = plt.subplots(3,3,figsize=(18,22))\n",
    "\n",
    "    for feature in features:\n",
    "        i += 1\n",
    "        plt.subplot(3,3,i)\n",
    "        sns.distplot(df1[feature], hist=False,label=label1)\n",
    "        sns.distplot(df2[feature], hist=False,label=label2)\n",
    "        plt.xlabel(feature, fontsize=9)\n",
    "        locs, labels = plt.xticks()\n",
    "        plt.tick_params(axis='x', which='major', labelsize=6, pad=-6)\n",
    "        plt.tick_params(axis='y', which='major', labelsize=6)\n",
    "    plt.show()"
   ]
  },
  {
   "cell_type": "code",
   "execution_count": 36,
   "metadata": {
    "ExecuteTime": {
     "end_time": "2020-08-02T17:56:59.309211Z",
     "start_time": "2020-08-02T17:56:59.063301Z"
    }
   },
   "outputs": [
    {
     "data": {
      "text/plain": [
       "<matplotlib.axes._subplots.AxesSubplot at 0x119d49978>"
      ]
     },
     "execution_count": 36,
     "metadata": {},
     "output_type": "execute_result"
    },
    {
     "data": {
      "image/png": "[encoded data removed]",
      "text/plain": [
       "<Figure size 864x576 with 1 Axes>"
      ]
     },
     "metadata": {},
     "output_type": "display_data"
    }
   ],
   "source": [
    "sns.countplot(df['SpecialDay'], palette='Set3')"
   ]
  },
  {
   "cell_type": "code",
   "execution_count": 37,
   "metadata": {
    "ExecuteTime": {
     "end_time": "2020-08-02T17:57:15.396636Z",
     "start_time": "2020-08-02T17:57:15.105683Z"
    }
   },
   "outputs": [
    {
     "data": {
      "text/plain": [
       "<matplotlib.axes._subplots.AxesSubplot at 0x119883c88>"
      ]
     },
     "execution_count": 37,
     "metadata": {},
     "output_type": "execute_result"
    },
    {
     "data": {
      "image/png": "[encoded data removed]",
      "text/plain": [
       "<Figure size 864x576 with 1 Axes>"
      ]
     },
     "metadata": {},
     "output_type": "display_data"
    }
   ],
   "source": [
    "sns.countplot(df['OperatingSystems'], palette='Set3')"
   ]
  },
  {
   "cell_type": "code",
   "execution_count": 38,
   "metadata": {
    "ExecuteTime": {
     "end_time": "2020-08-02T17:57:28.195077Z",
     "start_time": "2020-08-02T17:57:27.879792Z"
    }
   },
   "outputs": [
    {
     "data": {
      "text/plain": [
       "<matplotlib.axes._subplots.AxesSubplot at 0x119fa3668>"
      ]
     },
     "execution_count": 38,
     "metadata": {},
     "output_type": "execute_result"
    },
    {
     "data": {
      "image/png": "[encoded data removed]",
      "text/plain": [
       "<Figure size 864x576 with 1 Axes>"
      ]
     },
     "metadata": {},
     "output_type": "display_data"
    }
   ],
   "source": [
    "sns.countplot(df['Browser'], palette='Set3')"
   ]
  },
  {
   "cell_type": "code",
   "execution_count": 39,
   "metadata": {
    "ExecuteTime": {
     "end_time": "2020-08-02T17:57:43.797373Z",
     "start_time": "2020-08-02T17:57:43.521931Z"
    }
   },
   "outputs": [
    {
     "data": {
      "text/plain": [
       "<matplotlib.axes._subplots.AxesSubplot at 0x119c3e630>"
      ]
     },
     "execution_count": 39,
     "metadata": {},
     "output_type": "execute_result"
    },
    {
     "data": {
      "image/png": "[encoded data removed]",
      "text/plain": [
       "<Figure size 864x576 with 1 Axes>"
      ]
     },
     "metadata": {},
     "output_type": "display_data"
    }
   ],
   "source": [
    "sns.countplot(df['Region'], palette='Set3')"
   ]
  },
  {
   "cell_type": "code",
   "execution_count": 40,
   "metadata": {
    "ExecuteTime": {
     "end_time": "2020-08-02T17:58:00.564822Z",
     "start_time": "2020-08-02T17:58:00.197011Z"
    }
   },
   "outputs": [
    {
     "data": {
      "text/plain": [
       "<matplotlib.axes._subplots.AxesSubplot at 0x11a345d68>"
      ]
     },
     "execution_count": 40,
     "metadata": {},
     "output_type": "execute_result"
    },
    {
     "data": {
      "image/png": "[encoded data removed]",
      "text/plain": [
       "<Figure size 864x576 with 1 Axes>"
      ]
     },
     "metadata": {},
     "output_type": "display_data"
    }
   ],
   "source": [
    "sns.countplot(df['TrafficType'], palette='Set3')"
   ]
  },
  {
   "cell_type": "code",
   "execution_count": null,
   "metadata": {},
   "outputs": [],
   "source": []
  },
  {
   "cell_type": "code",
   "execution_count": null,
   "metadata": {},
   "outputs": [],
   "source": []
  },
  {
   "cell_type": "code",
   "execution_count": null,
   "metadata": {},
   "outputs": [],
   "source": []
  },
  {
   "cell_type": "code",
   "execution_count": null,
   "metadata": {},
   "outputs": [],
   "source": []
  },
  {
   "cell_type": "code",
   "execution_count": null,
   "metadata": {},
   "outputs": [],
   "source": []
  },
  {
   "cell_type": "code",
   "execution_count": null,
   "metadata": {},
   "outputs": [],
   "source": []
  },
  {
   "cell_type": "code",
   "execution_count": null,
   "metadata": {},
   "outputs": [],
   "source": []
  },
  {
   "cell_type": "code",
   "execution_count": null,
   "metadata": {},
   "outputs": [],
   "source": []
  },
  {
   "cell_type": "markdown",
   "metadata": {},
   "source": [
    "This bar graph shows that the percentage of visitor who visited the different type of pages. Around 50% of the users visit the administrative type of page and almost all of them visit the product pages as well."
   ]
  },
  {
   "cell_type": "code",
   "execution_count": 42,
   "metadata": {
    "ExecuteTime": {
     "end_time": "2020-08-02T17:43:54.886859Z",
     "start_time": "2020-08-02T17:43:54.504142Z"
    }
   },
   "outputs": [
    {
     "data": {
      "image/png": "[encoded data removed]",
      "text/plain": [
       "<Figure size 864x360 with 7 Axes>"
      ]
     },
     "metadata": {},
     "output_type": "display_data"
    }
   ],
   "source": [
    "no_column = 0\n",
    "fig, ax = plt.subplots(2,4, figsize= (12,5))\n",
    "plt.suptitle('The Percentage of Revenue Based On Website Type', fontsize = 16)\n",
    "for i in range(2):\n",
    "    for k in range(4):\n",
    "        ax[i,k].pie([df_website_percentage.iloc[1,no_column], 100-df_website_percentage.iloc[1,no_column]], autopct='%1.1f%%', labels = ['True', 'False'] ,shadow=True, startangle=90 )\n",
    "        ax[i,k].axis('equal')\n",
    "        ax[i,k].set_title(df_website_percentage.columns[no_column])\n",
    "        no_column += 1\n",
    "        if no_column == 7:\n",
    "           fig.delaxes(ax.flatten()[7])\n",
    "           break\n",
    "\n",
    "plt.show()"
   ]
  },
  {
   "cell_type": "code",
   "execution_count": 43,
   "metadata": {
    "ExecuteTime": {
     "end_time": "2020-08-02T17:43:59.542155Z",
     "start_time": "2020-08-02T17:43:59.521052Z"
    }
   },
   "outputs": [
    {
     "data": {
      "text/html": [
       "<div>\n",
       "<style scoped>\n",
       "    .dataframe tbody tr th:only-of-type {\n",
       "        vertical-align: middle;\n",
       "    }\n",
       "\n",
       "    .dataframe tbody tr th {\n",
       "        vertical-align: top;\n",
       "    }\n",
       "\n",
       "    .dataframe thead th {\n",
       "        text-align: right;\n",
       "    }\n",
       "</style>\n",
       "<table border=\"1\" class=\"dataframe\">\n",
       "  <thead>\n",
       "    <tr style=\"text-align: right;\">\n",
       "      <th></th>\n",
       "      <th>Admininstrative</th>\n",
       "      <th>Informational</th>\n",
       "      <th>Product Related</th>\n",
       "      <th>Admin &amp; Info</th>\n",
       "      <th>Admin &amp; Product</th>\n",
       "      <th>Info &amp; Product</th>\n",
       "      <th>Admin &amp; Info &amp; Product</th>\n",
       "    </tr>\n",
       "  </thead>\n",
       "  <tbody>\n",
       "    <tr>\n",
       "      <th>Website Usage</th>\n",
       "      <td>52.124899</td>\n",
       "      <td>19.505272</td>\n",
       "      <td>93.876723</td>\n",
       "      <td>16.074615</td>\n",
       "      <td>51.889700</td>\n",
       "      <td>19.448500</td>\n",
       "      <td>16.066504</td>\n",
       "    </tr>\n",
       "    <tr>\n",
       "      <th>Revenue Rate</th>\n",
       "      <td>21.160728</td>\n",
       "      <td>23.492723</td>\n",
       "      <td>16.371490</td>\n",
       "      <td>23.965691</td>\n",
       "      <td>21.100344</td>\n",
       "      <td>23.561301</td>\n",
       "      <td>23.977789</td>\n",
       "    </tr>\n",
       "  </tbody>\n",
       "</table>\n",
       "</div>"
      ],
      "text/plain": [
       "               Admininstrative  Informational  Product Related  Admin & Info  \\\n",
       "Website Usage        52.124899      19.505272        93.876723     16.074615   \n",
       "Revenue Rate         21.160728      23.492723        16.371490     23.965691   \n",
       "\n",
       "               Admin & Product  Info & Product  Admin & Info & Product  \n",
       "Website Usage        51.889700       19.448500               16.066504  \n",
       "Revenue Rate         21.100344       23.561301               23.977789  "
      ]
     },
     "execution_count": 43,
     "metadata": {},
     "output_type": "execute_result"
    }
   ],
   "source": [
    "df_website_percentage"
   ]
  },
  {
   "cell_type": "code",
   "execution_count": 44,
   "metadata": {
    "ExecuteTime": {
     "end_time": "2020-08-02T17:44:04.412957Z",
     "start_time": "2020-08-02T17:44:03.986108Z"
    }
   },
   "outputs": [
    {
     "data": {
      "image/png": "[encoded data removed]",
      "text/plain": [
       "<Figure size 1440x288 with 7 Axes>"
      ]
     },
     "metadata": {},
     "output_type": "display_data"
    }
   ],
   "source": [
    "fig, ax = plt.subplots(1,7, figsize = (20,4))\n",
    "plt.suptitle('The percentage of revenue based on website')\n",
    "for i, col_title in enumerate(df_website_percentage):\n",
    "    ax[i].pie([df_website_percentage.loc['Revenue Rate',col_title], 100- df_website_percentage.loc['Revenue Rate',col_title]],autopct='%1.1f%%', labels = ['True', 'False'] ,shadow=True, startangle=90 )\n",
    "    ax[i].set_title(col_title)\n",
    "    centre_circle = plt.Circle((0,0),0.70,fc='white')\n",
    "    fig = plt.gcf()\n",
    "    fig.gca().add_artist(centre_circle)\n",
    "    ax[i].axis('equal')\n",
    "    \n",
    "plt.show()"
   ]
  },
  {
   "cell_type": "markdown",
   "metadata": {},
   "source": [
    "When the website users visit all page together, they more likely make purchase."
   ]
  },
  {
   "cell_type": "code",
   "execution_count": 45,
   "metadata": {
    "ExecuteTime": {
     "end_time": "2020-08-02T17:44:08.516842Z",
     "start_time": "2020-08-02T17:44:08.145165Z"
    }
   },
   "outputs": [
    {
     "data": {
      "image/png": "[encoded data removed]",
      "text/plain": [
       "<Figure size 864x720 with 1 Axes>"
      ]
     },
     "metadata": {},
     "output_type": "display_data"
    }
   ],
   "source": [
    " # The Revenue by Month\n",
    "sums_revenue = pd.DataFrame(df.groupby(['Month', 'Revenue'])['Revenue'].count().rename('Total')).sort_values(by = ['Total'], ascending = False)\n",
    "sums_revenue.reset_index(inplace = True)\n",
    "fig, ax = plt.subplots(figsize = (12,10))\n",
    "sns.barplot(x = sums_revenue.Month, y = sums_revenue.Total, hue = sums_revenue.Revenue)\n",
    "plt.title('The Revenue by Month', fontsize = 16 )\n",
    "plt.show()"
   ]
  },
  {
   "cell_type": "code",
   "execution_count": 46,
   "metadata": {
    "ExecuteTime": {
     "end_time": "2020-08-02T17:44:13.047298Z",
     "start_time": "2020-08-02T17:44:12.515918Z"
    }
   },
   "outputs": [
    {
     "data": {
      "image/png": "[encoded data removed]",
      "text/plain": [
       "<Figure size 1296x360 with 10 Axes>"
      ]
     },
     "metadata": {},
     "output_type": "display_data"
    }
   ],
   "source": [
    "fig, ax = plt.subplots(2,5, figsize = (18,5))\n",
    "no_month = 0\n",
    "plt.suptitle('The Percentage of Revenue by Month', fontsize = 16)\n",
    "for i in range(2):\n",
    "    for k in range(5):\n",
    "        temp_percentage = sums_revenue[(sums_revenue['Month'] == sums_revenue['Month'].unique()[no_month] )&(sums_revenue['Revenue'] == True)]['Total'] / sums_revenue[sums_revenue['Month'] == sums_revenue['Month'].unique()[no_month]]['Total'].sum() * 100\n",
    "        temp_percentage = pd.Series([temp_percentage, 100- temp_percentage])\n",
    "        ax[i,k].pie(temp_percentage, autopct = '%.2f%%', labels = ['True', 'False'])\n",
    "        ax[i,k].set_title(sums_revenue['Month'].unique()[no_month])\n",
    "        ax[i,k].axis('equal')\n",
    "        no_month += 1"
   ]
  },
  {
   "cell_type": "markdown",
   "metadata": {},
   "source": [
    "As can be seen from the pie charts, September October, and November have higher revenue rate. The users who visit the websites more likely make a purchase."
   ]
  },
  {
   "cell_type": "markdown",
   "metadata": {},
   "source": [
    "The new visitors have lower exit rates."
   ]
  },
  {
   "cell_type": "code",
   "execution_count": null,
   "metadata": {
    "ExecuteTime": {
     "end_time": "2020-08-05T11:44:12.511277Z",
     "start_time": "2020-08-05T11:44:11.689016Z"
    }
   },
   "outputs": [],
   "source": [
    "# Correlation Matrix\n",
    "import seaborn as sns\n",
    "dataset_interval = df[['Administrative', 'Administrative_Duration', 'Informational',\n",
    "       'Informational_Duration', 'ProductRelated', 'ProductRelated_Duration',\n",
    "       'BounceRates', 'ExitRates', 'PageValues', 'Revenue']]\n",
    "correlation_matrix = dataset_interval.corr()\n",
    "fig, ax = plt.subplots(figsize = (15,15))\n",
    "sns.heatmap(correlation_matrix, annot =True, annot_kws = {'size': 10})\n",
    "plt.xticks(rotation = 30)"
   ]
  },
  {
   "cell_type": "markdown",
   "metadata": {},
   "source": [
    "Bounce Rate and Exit Rate is highly correlated."
   ]
  },
  {
   "cell_type": "code",
   "execution_count": null,
   "metadata": {
    "ExecuteTime": {
     "end_time": "2020-08-05T11:45:13.718515Z",
     "start_time": "2020-08-05T11:45:12.259727Z"
    }
   },
   "outputs": [],
   "source": [
    "sns.jointplot(data = df, x= 'ExitRates', y = 'BounceRates', kind = 'reg')\n",
    "plt.suptitle('Exit and Bounce Rate Correlation', fontsize = 16)\n",
    "plt.show()"
   ]
  },
  {
   "cell_type": "code",
   "execution_count": null,
   "metadata": {
    "ExecuteTime": {
     "end_time": "2020-08-05T11:45:48.609543Z",
     "start_time": "2020-08-05T11:45:45.690380Z"
    }
   },
   "outputs": [],
   "source": [
    "sns.jointplot(data = df, x = 'ProductRelated_Duration', y = 'ProductRelated',kind = 'reg' )\n",
    "sns.jointplot(data = df, x = 'Administrative_Duration', y = 'Administrative',kind = 'reg' )\n",
    "plt.show()"
   ]
  },
  {
   "cell_type": "markdown",
   "metadata": {},
   "source": []
  },
  {
   "cell_type": "markdown",
   "metadata": {
    "ExecuteTime": {
     "end_time": "2020-08-05T11:57:27.744633Z",
     "start_time": "2020-08-05T11:57:27.735470Z"
    }
   },
   "source": [
    "### K-means clustering\n",
    "<font color=green>From the results that we gathered from feature selection, there is evidence to show that how long a user stays on a page is a significant factor is determining whether he/she decides to purchase an item. To understand further on which products/items are the ones that stand out from the rest, we dive in deeper to the product page category."
   ]
  },
  {
   "cell_type": "markdown",
   "metadata": {},
   "source": []
  },
  {
   "cell_type": "code",
   "execution_count": null,
   "metadata": {
    "ExecuteTime": {
     "end_time": "2020-08-06T09:48:42.197492Z",
     "start_time": "2020-08-06T09:48:42.188145Z"
    }
   },
   "outputs": [],
   "source": [
    "numeric_df.drop(columns = \"BounceRates\", inplace=True)\n",
    "numeric_df.drop(columns = \"ExitRates\", inplace=True)"
   ]
  },
  {
   "cell_type": "markdown",
   "metadata": {},
   "source": [
    "<font color=green>To analyse the product page category, we filter for the columns where the Administrative and Informational category are not included (meaning the values for them are 0) and store them in product_df"
   ]
  },
  {
   "cell_type": "code",
   "execution_count": null,
   "metadata": {
    "ExecuteTime": {
     "end_time": "2020-08-06T09:51:50.148096Z",
     "start_time": "2020-08-06T09:51:50.137335Z"
    }
   },
   "outputs": [],
   "source": [
    "filter_admin = numeric_df['Administrative'] == 0\n",
    "filter_info = numeric_df['Informational'] == 0\n",
    "filter_pdt = numeric_df['ProductRelated'] != 0\n",
    "product_df = numeric_df[filter_admin & filter_info & filter_pdt]"
   ]
  },
  {
   "cell_type": "markdown",
   "metadata": {},
   "source": [
    "<font color=green>Normalization of values takes place here to prepare the dataframe product_normal_df to carry out k-means clustering."
   ]
  },
  {
   "cell_type": "code",
   "execution_count": null,
   "metadata": {
    "ExecuteTime": {
     "end_time": "2020-08-06T09:51:52.464361Z",
     "start_time": "2020-08-06T09:51:52.436664Z"
    }
   },
   "outputs": [],
   "source": [
    "product_normal_df = product_df[['ProductRelated','ProductRelated_Duration','Revenue']]\n",
    "product_normal_df = (product_normal_df - product_normal_df.min()) / (product_normal_df.max() - product_normal_df.min())\n",
    "product_normal_df.columns = ['NProductRelated', 'NProductRelated_Duration', 'NRevenue']\n",
    "product_normal_df.head()"
   ]
  },
  {
   "cell_type": "markdown",
   "metadata": {},
   "source": [
    "<font color=green>Normalization of values takes place here to prepare the dataframe product_normal_df to carry out k-means clustering."
   ]
  },
  {
   "cell_type": "markdown",
   "metadata": {},
   "source": [
    "### Duration of pages vs Revenue"
   ]
  },
  {
   "cell_type": "code",
   "execution_count": null,
   "metadata": {},
   "outputs": [],
   "source": [
    "plt.figure(figsize = (15, 5))\n",
    "#plt.style.use('seaborn-white')\n",
    "plt.subplot(131)\n",
    "sns.scatterplot(x=\"Administrative\", y=\"Administrative_Duration\",hue=\"Revenue\", data=df)\n",
    "plt.subplot(132)\n",
    "sns.scatterplot(x=\"Informational\", y=\"Informational_Duration\",hue=\"Revenue\", data=df)\n",
    "plt.subplot(133)\n",
    "sns.scatterplot(x=\"ProductRelated\", y=\"ProductRelated_Duration\",hue=\"Revenue\", data=df)"
   ]
  },
  {
   "cell_type": "markdown",
   "metadata": {},
   "source": [
    "Insights:\n",
    "\n",
    "High duration users are found for the initial types of pages (0-15: Administrative;0-10:Informational;0-300:Product Related)\n",
    "Revenue hasn't been generated for the latter types\n",
    "There is a linear relationship between product_related and Product duration (multicollinearity)"
   ]
  },
  {
   "cell_type": "markdown",
   "metadata": {},
   "source": [
    "### Month Vs Page value Vs Revenue"
   ]
  },
  {
   "cell_type": "code",
   "execution_count": null,
   "metadata": {},
   "outputs": [],
   "source": [
    "fig, ax1 = plt.subplots(figsize=(10,6))\n",
    "color = 'tab:green'\n",
    "ax1.set_title('Average Page Value by Month', fontsize=16)\n",
    "ax1.set_xlabel('Month', fontsize=16)\n",
    "ax1.set_ylabel('Avg Temp', fontsize=16, color=color)\n",
    "ax2 = sns.barplot(x='Month', y='PageValues', data = df, palette='summer',hue='Revenue')\n",
    "ax1.tick_params(axis='y')\n",
    "ax2 = ax1.twinx()\n",
    "color = 'tab:red'\n",
    "ax2.set_ylabel('Avg Percipitation %', fontsize=16, color=color)\n",
    "ax2 = sns.lineplot(x='Month', y='PageValues', data = df, sort=False, color=color)\n",
    "ax2.tick_params(axis='y', color=color)\n",
    "plt.show()"
   ]
  },
  {
   "cell_type": "markdown",
   "metadata": {},
   "source": [
    "Insights:\n",
    "\n",
    "The page value has considerably increased over the months with some fall in mid of the year\n",
    "Page value is high when there is a revenue\n",
    "There is a high variance in page value data considering each month"
   ]
  },
  {
   "cell_type": "code",
   "execution_count": null,
   "metadata": {},
   "outputs": [],
   "source": []
  },
  {
   "cell_type": "code",
   "execution_count": null,
   "metadata": {},
   "outputs": [],
   "source": []
  },
  {
   "cell_type": "code",
   "execution_count": null,
   "metadata": {},
   "outputs": [],
   "source": []
  },
  {
   "cell_type": "code",
   "execution_count": null,
   "metadata": {},
   "outputs": [],
   "source": []
  },
  {
   "cell_type": "code",
   "execution_count": null,
   "metadata": {},
   "outputs": [],
   "source": []
  },
  {
   "cell_type": "markdown",
   "metadata": {},
   "source": [
    "### Prepare Train Data"
   ]
  },
  {
   "cell_type": "code",
   "execution_count": 50,
   "metadata": {
    "ExecuteTime": {
     "end_time": "2020-08-05T11:39:45.218735Z",
     "start_time": "2020-08-05T11:39:45.157374Z"
    }
   },
   "outputs": [
    {
     "data": {
      "text/plain": [
       "Administrative               int64\n",
       "Administrative_Duration    float64\n",
       "Informational                int64\n",
       "Informational_Duration     float64\n",
       "ProductRelated               int64\n",
       "ProductRelated_Duration    float64\n",
       "BounceRates                float64\n",
       "ExitRates                  float64\n",
       "PageValues                 float64\n",
       "SpecialDay                 float64\n",
       "Month                        int64\n",
       "OperatingSystems             int64\n",
       "Browser                      int64\n",
       "Region                       int64\n",
       "TrafficType                  int64\n",
       "Weekend                      int64\n",
       "Revenue                      int64\n",
       "Other                        uint8\n",
       "Returning_Visitor            uint8\n",
       "dtype: object"
      ]
     },
     "execution_count": 50,
     "metadata": {},
     "output_type": "execute_result"
    }
   ],
   "source": [
    "df.dtypes"
   ]
  },
  {
   "cell_type": "code",
   "execution_count": 51,
   "metadata": {
    "ExecuteTime": {
     "end_time": "2020-08-05T11:39:47.288948Z",
     "start_time": "2020-08-05T11:39:47.279941Z"
    }
   },
   "outputs": [],
   "source": [
    "#split into X and y\n",
    "X = df.iloc[:,6:-1].values\n",
    "y = df.iloc[:,-1].values"
   ]
  },
  {
   "cell_type": "code",
   "execution_count": 52,
   "metadata": {
    "ExecuteTime": {
     "end_time": "2020-08-02T18:06:50.721760Z",
     "start_time": "2020-08-02T18:06:50.687853Z"
    }
   },
   "outputs": [],
   "source": [
    "#label encode the objects\n",
    "from sklearn.preprocessing import LabelEncoder, OneHotEncoder\n",
    "le = LabelEncoder()\n",
    "y = le.fit_transform(y)\n",
    "X[:,4] = le.fit_transform(X[:,4])\n",
    "X[:,9] = le.fit_transform(X[:,9])\n",
    "X[:,10] = le.fit_transform(X[:,10])"
   ]
  },
  {
   "cell_type": "code",
   "execution_count": 53,
   "metadata": {
    "ExecuteTime": {
     "end_time": "2020-08-02T18:01:07.992974Z",
     "start_time": "2020-08-02T18:01:07.978150Z"
    }
   },
   "outputs": [],
   "source": [
    "#split into train and test set\n",
    "from sklearn.model_selection import train_test_split\n",
    "X_train, X_test, y_train, y_test = train_test_split(X, y, test_size = 0.2, random_state = 0)"
   ]
  },
  {
   "cell_type": "markdown",
   "metadata": {
    "ExecuteTime": {
     "end_time": "2020-08-02T18:04:04.932998Z",
     "start_time": "2020-08-02T18:04:04.913156Z"
    }
   },
   "source": [
    "Lets begin the Classification"
   ]
  },
  {
   "cell_type": "markdown",
   "metadata": {},
   "source": [
    "LOGISTIC REGRESSION"
   ]
  },
  {
   "cell_type": "code",
   "execution_count": 54,
   "metadata": {},
   "outputs": [
    {
     "data": {
      "text/plain": [
       "LogisticRegression()"
      ]
     },
     "execution_count": 54,
     "metadata": {},
     "output_type": "execute_result"
    }
   ],
   "source": [
    "from sklearn.linear_model import LogisticRegression\n",
    "classifier = LogisticRegression(solver = 'lbfgs')\n",
    "classifier.fit(X_train, y_train)"
   ]
  },
  {
   "cell_type": "code",
   "execution_count": 55,
   "metadata": {},
   "outputs": [],
   "source": [
    "#predict the values\n",
    "y_pred = classifier.predict(X_test)"
   ]
  },
  {
   "cell_type": "code",
   "execution_count": 56,
   "metadata": {},
   "outputs": [
    {
     "name": "stdout",
     "output_type": "stream",
     "text": [
      "              precision    recall  f1-score   support\n",
      "\n",
      "           0       0.90      0.05      0.10       350\n",
      "           1       0.86      1.00      0.93      2116\n",
      "\n",
      "    accuracy                           0.86      2466\n",
      "   macro avg       0.88      0.53      0.51      2466\n",
      "weighted avg       0.87      0.86      0.81      2466\n",
      "\n"
     ]
    }
   ],
   "source": [
    "from sklearn.metrics import classification_report\n",
    "print(classification_report(y_test, y_pred))"
   ]
  },
  {
   "cell_type": "markdown",
   "metadata": {},
   "source": [
    "Accuracy of Logistic Classifier is 86%"
   ]
  },
  {
   "cell_type": "markdown",
   "metadata": {},
   "source": [
    "KNN Classifier"
   ]
  },
  {
   "cell_type": "code",
   "execution_count": 58,
   "metadata": {},
   "outputs": [
    {
     "data": {
      "text/plain": [
       "KNeighborsClassifier()"
      ]
     },
     "execution_count": 58,
     "metadata": {},
     "output_type": "execute_result"
    }
   ],
   "source": [
    "from sklearn.neighbors import KNeighborsClassifier\n",
    "classifier = KNeighborsClassifier(metric = 'minkowski', p = 2, n_neighbors = 5)\n",
    "classifier.fit(X_train, y_train)"
   ]
  },
  {
   "cell_type": "code",
   "execution_count": 59,
   "metadata": {},
   "outputs": [],
   "source": [
    "#predict the values\n",
    "y_pred = classifier.predict(X_test)"
   ]
  },
  {
   "cell_type": "code",
   "execution_count": 60,
   "metadata": {},
   "outputs": [
    {
     "name": "stdout",
     "output_type": "stream",
     "text": [
      "              precision    recall  f1-score   support\n",
      "\n",
      "           0       0.41      0.16      0.23       350\n",
      "           1       0.87      0.96      0.92      2116\n",
      "\n",
      "    accuracy                           0.85      2466\n",
      "   macro avg       0.64      0.56      0.57      2466\n",
      "weighted avg       0.81      0.85      0.82      2466\n",
      "\n"
     ]
    }
   ],
   "source": [
    "#print report\n",
    "print(classification_report(y_test, y_pred))"
   ]
  },
  {
   "cell_type": "markdown",
   "metadata": {},
   "source": [
    "Accuracy of KNN Classifier is 85%"
   ]
  },
  {
   "cell_type": "markdown",
   "metadata": {},
   "source": [
    "Support Vector Classifier"
   ]
  },
  {
   "cell_type": "code",
   "execution_count": 62,
   "metadata": {},
   "outputs": [
    {
     "data": {
      "text/plain": [
       "SVC(random_state=0)"
      ]
     },
     "execution_count": 62,
     "metadata": {},
     "output_type": "execute_result"
    }
   ],
   "source": [
    "from sklearn.svm import SVC\n",
    "classifier = SVC(kernel = 'rbf', random_state = 0)\n",
    "classifier.fit(X_train, y_train)"
   ]
  },
  {
   "cell_type": "code",
   "execution_count": 63,
   "metadata": {},
   "outputs": [],
   "source": [
    "#predict the values\n",
    "y_pred = classifier.predict(X_test)"
   ]
  },
  {
   "cell_type": "code",
   "execution_count": 64,
   "metadata": {},
   "outputs": [
    {
     "name": "stdout",
     "output_type": "stream",
     "text": [
      "              precision    recall  f1-score   support\n",
      "\n",
      "           0       0.82      0.03      0.05       350\n",
      "           1       0.86      1.00      0.92      2116\n",
      "\n",
      "    accuracy                           0.86      2466\n",
      "   macro avg       0.84      0.51      0.49      2466\n",
      "weighted avg       0.86      0.86      0.80      2466\n",
      "\n"
     ]
    }
   ],
   "source": [
    "#print report\n",
    "print(classification_report(y_test, y_pred))"
   ]
  },
  {
   "cell_type": "markdown",
   "metadata": {},
   "source": [
    "The accuracy is 86%."
   ]
  },
  {
   "cell_type": "code",
   "execution_count": null,
   "metadata": {},
   "outputs": [],
   "source": []
  },
  {
   "cell_type": "code",
   "execution_count": null,
   "metadata": {},
   "outputs": [],
   "source": []
  },
  {
   "cell_type": "code",
   "execution_count": null,
   "metadata": {},
   "outputs": [],
   "source": []
  },
  {
   "cell_type": "code",
   "execution_count": null,
   "metadata": {},
   "outputs": [],
   "source": []
  },
  {
   "cell_type": "code",
   "execution_count": null,
   "metadata": {},
   "outputs": [],
   "source": []
  },
  {
   "cell_type": "code",
   "execution_count": null,
   "metadata": {},
   "outputs": [],
   "source": []
  },
  {
   "cell_type": "code",
   "execution_count": null,
   "metadata": {},
   "outputs": [],
   "source": []
  },
  {
   "cell_type": "code",
   "execution_count": null,
   "metadata": {},
   "outputs": [],
   "source": []
  },
  {
   "cell_type": "code",
   "execution_count": null,
   "metadata": {},
   "outputs": [],
   "source": []
  },
  {
   "cell_type": "code",
   "execution_count": null,
   "metadata": {},
   "outputs": [],
   "source": []
  }
 ],
 "metadata": {
  "kernelspec": {
   "display_name": "Python 3",
   "language": "python",
   "name": "python3"
  },
  "language_info": {
   "codemirror_mode": {
    "name": "ipython",
    "version": 3
   },
   "file_extension": ".py",
   "mimetype": "text/x-python",
   "name": "python",
   "nbconvert_exporter": "python",
   "pygments_lexer": "ipython3",
   "version": "3.7.3"
  },
  "toc": {
   "base_numbering": 1,
   "nav_menu": {},
   "number_sections": true,
   "sideBar": true,
   "skip_h1_title": false,
   "title_cell": "Table of Contents",
   "title_sidebar": "Contents",
   "toc_cell": false,
   "toc_position": {},
   "toc_section_display": true,
   "toc_window_display": false
  }
 },
 "nbformat": 4,
 "nbformat_minor": 4
}
